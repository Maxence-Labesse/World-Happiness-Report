{
 "cells": [
  {
   "cell_type": "markdown",
   "metadata": {},
   "source": [
    "Notes:\n",
    "**Regression linéaire tuto Python:** \n",
    "* https://medium.com/all-about-ml/linear-regression-d41a6a5dcab6\n",
    "* https://anaconda.org/sanchitiitr/linear-regression-model/notebook\n",
    "\n",
    "**Polynomiale:**\n",
    "* https://medium.com/analytics-vidhya/understanding-polynomial-regression-5ac25b970e18 (voir cost function)\n",
    "* https://medium.com/@rushilp2311/in-this-article-we-will-explore-more-about-regression-algorithm-ca3c5594a0b0 (sklearn.preprocessing import PolynomoalFeatures)\n",
    "* https://towardsdatascience.com/polynomial-regression-bbe8b9d97491\n",
    "\n",
    "**Random Forest**\n",
    "* https://medium.com/swlh/random-forest-and-its-implementation-71824ced454f\n",
    "\n",
    "**Autre:**\n",
    "* Stepwise ?"
   ]
  }
 ],
 "metadata": {
  "kernelspec": {
   "display_name": "Python 3",
   "language": "python",
   "name": "python3"
  },
  "language_info": {
   "codemirror_mode": {
    "name": "ipython",
    "version": 3
   },
   "file_extension": ".py",
   "mimetype": "text/x-python",
   "name": "python",
   "nbconvert_exporter": "python",
   "pygments_lexer": "ipython3",
   "version": "3.7.0"
  }
 },
 "nbformat": 4,
 "nbformat_minor": 4
}
