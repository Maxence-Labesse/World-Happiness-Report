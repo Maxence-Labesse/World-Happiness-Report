{
 "cells": [
  {
   "cell_type": "markdown",
   "metadata": {},
   "source": [
    "Notes:\n",
    "**Regression linéaire tuto Python:** \n",
    "* https://medium.com/all-about-ml/linear-regression-d41a6a5dcab6\n",
    "* https://anaconda.org/sanchitiitr/linear-regression-model/notebook\n",
    "\n",
    "**Polynomiale:**\n",
    "* https://medium.com/analytics-vidhya/understanding-polynomial-regression-5ac25b970e18 (voir cost function)\n",
    "* https://medium.com/@rushilp2311/in-this-article-we-will-explore-more-about-regression-algorithm-ca3c5594a0b0 (sklearn.preprocessing import PolynomoalFeatures)\n",
    "* https://towardsdatascience.com/polynomial-regression-bbe8b9d97491\n",
    "\n",
    "**Random Forest**\n",
    "* https://medium.com/swlh/random-forest-and-its-implementation-71824ced454f\n",
    "\n",
    "**Autre:**\n",
    "* Stepwise ?\n",
    "* A la fin, un tableau récapitulatif modèle + métrique"
   ]
  },
  {
   "cell_type": "markdown",
   "metadata": {},
   "source": [
    "# Table of Contents\n",
    "\n",
    "<div class=\"alert alert-block alert-info\" style=\"margin-top: 20px\">\n",
    "\n",
    "[Context](#Co)<br>\n",
    "[Import packages and data](#0)<br>\n",
    "    \n",
    "[**Data representation**](#Da)<br>\n",
    "\n",
    "</div>\n",
    "<hr>"
   ]
  },
  {
   "cell_type": "markdown",
   "metadata": {},
   "source": [
    "<a name=\"Co\"></a>\n",
    "# Context\n",
    "\n",
    "The **World Happiness Report** is a landmark survey of the state of global happiness from 2015 to 2019 according to 6 main factors:\n",
    "* economic production, \n",
    "* social support, \n",
    "* life expectancy, freedom, \n",
    "* absence of corruption, \n",
    "* and generosity\n",
    "\n",
    "### Purposes of the project\n",
    "<ins> Data analysis: </ins>\n",
    "1. Give a clear picture of happiness around the world in 2019\n",
    "2. Analyse trends in happiness from 2015 to 2019\n",
    "    \n",
    "<ins> Forecasting with Machine Learning</ins>(*)\n",
    "1. How happy will countries be in 2020 ?\n",
    "2. In which countries happiness will increase in 2020 ?\n",
    "\n",
    "(\\*) *Although data don't contain related information, the global pandemic may have a tremendous impact on the results*\n",
    "\n",
    "You can find the whole presentation and information about the data in the **Project Presentation** notebook\n",
    "\n",
    "### Workflow\n",
    "* Cleaning\n",
    "* EDA\n",
    "* Data Visualization\n",
    "* Preprocessing\n",
    "* **Machine Learning**\n",
    "\n",
    "--------\n",
    "On va tester les algo suivants : N = N-1 for benchmark, regression linéaire (sans variable selection et avec), régression polynomiale et random forest.\n",
    "Placer Machine Learning"
   ]
  },
  {
   "cell_type": "markdown",
   "metadata": {},
   "source": [
    "------------\n",
    "------------\n",
    "<a name=\"0\"></a>\n",
    "# Import packages and data"
   ]
  },
  {
   "cell_type": "code",
   "execution_count": 1,
   "metadata": {},
   "outputs": [],
   "source": [
    "import pandas as pd\n",
    "import numpy as np\n",
    "\n",
    "import seaborn as sns\n",
    "import matplotlib.pyplot as plt\n",
    "\n",
    "from sklearn.linear_model import LinearRegression\n",
    "from sklearn.metrics import mean_squared_error,r2_score\n",
    "from statsmodels.stats.outliers_influence import variance_inflation_factor"
   ]
  },
  {
   "cell_type": "code",
   "execution_count": 2,
   "metadata": {},
   "outputs": [],
   "source": [
    "# import cleaned and normalized data\n",
    "train_set = pd.read_csv('data/train_set.csv', index_col=\"country\")\n",
    "test_set = pd.read_csv('data/test_set.csv', index_col=\"country\")\n",
    "infer_set = pd.read_csv('data/infer_set.csv', index_col=\"country\")\n",
    "\n",
    "# drop region and year\n",
    "train_set.drop(columns=['year','region'],inplace=True)\n",
    "test_set.drop(columns=['year','region'],inplace=True)\n",
    "infer_set.drop(columns=['region'],inplace=True)\n",
    "\n",
    "# list of factors\n",
    "l_factors = ['life_expectancy', 'gdp_per_capita', 'social_support', \n",
    "             'freedom','generosity', 'corruption_perception'] "
   ]
  },
  {
   "cell_type": "markdown",
   "metadata": {},
   "source": [
    "------------\n",
    "------------\n",
    "<a name=\"Da\"></a>\n",
    "# Forecasting"
   ]
  },
  {
   "cell_type": "code",
   "execution_count": 3,
   "metadata": {},
   "outputs": [],
   "source": [
    "X_train = train_set.copy().drop(columns=['happiness_score'])\n",
    "Y_train = train_set[\"happiness_score\"].copy()\n",
    "\n",
    "X_test = test_set.copy().drop(columns=['happiness_score'])\n",
    "Y_test = test_set[\"happiness_score\"].copy()\n",
    "\n",
    "y_true = test_set[\"happiness_score\"]"
   ]
  },
  {
   "cell_type": "markdown",
   "metadata": {},
   "source": [
    "## Benchmark Happiness year N = Happiness year N-1"
   ]
  },
  {
   "cell_type": "code",
   "execution_count": 4,
   "metadata": {},
   "outputs": [
    {
     "name": "stdout",
     "output_type": "stream",
     "text": [
      "benchmark mse: 17.492573441032466\n"
     ]
    }
   ],
   "source": [
    "y_pred_bench = test_set[\"happiness_scoreP1\"]\n",
    "\n",
    "benchmark_mse = mean_squared_error(y_true, y_pred_bench)\n",
    "\n",
    "print(\"benchmark mse:\",benchmark_mse)"
   ]
  },
  {
   "cell_type": "markdown",
   "metadata": {},
   "source": [
    "## Régression linéaire sans selection de variable"
   ]
  },
  {
   "cell_type": "code",
   "execution_count": 96,
   "metadata": {},
   "outputs": [],
   "source": [
    "model = LinearRegression() \n",
    "linear_fit = model.fit(X_train, Y_train)\n",
    "y_pred_lin = linear_fit.predict(X_test)\n",
    "y_train_pred_lin = linear_fit.predict(X_train)"
   ]
  },
  {
   "cell_type": "code",
   "execution_count": 97,
   "metadata": {},
   "outputs": [
    {
     "name": "stdout",
     "output_type": "stream",
     "text": [
      "linear mse test: 32.71871849467362\n",
      "linear mse train: 9.09998014942466\n"
     ]
    }
   ],
   "source": [
    "linear_mse_test = mean_squared_error(y_true, y_pred_lin)\n",
    "linear_mse_train = mean_squared_error(Y_train, y_train_pred_lin)\n",
    "\n",
    "print(\"linear mse test:\",linear_mse_test)\n",
    "print(\"linear mse train:\",linear_mse_train)"
   ]
  },
  {
   "cell_type": "markdown",
   "metadata": {},
   "source": [
    "\n",
    "\n",
    "## Régression linéaire avec selection de variable"
   ]
  },
  {
   "cell_type": "code",
   "execution_count": 47,
   "metadata": {},
   "outputs": [
    {
     "data": {
      "text/plain": [
       "['corruption_perceptionP1',\n",
       " 'generosityP1',\n",
       " 'Australia and New Zealand',\n",
       " 'Central and Eastern Europe',\n",
       " 'Eastern Asia',\n",
       " 'Latin America and Caribbean',\n",
       " 'Middle East and Northern Africa',\n",
       " 'North America',\n",
       " 'Southeastern Asia',\n",
       " 'Southern Asia',\n",
       " 'Sub-Saharan Africa']"
      ]
     },
     "metadata": {},
     "output_type": "display_data"
    }
   ],
   "source": [
    "l_var_remove = [\"gdp_per_capitaP2\", \"life_expectancyP2\", \"gdp_per_capitaP3\", \"happiness_scoreP2\",\"corruption_perceptionP2\",\n",
    "                \"social_supportP2\", \"generosityP2\",\"freedomP2\",\"life_expectancyP3\",\"corruption_perceptionP3\",\n",
    "                \"happiness_scoreP3\",\"Western Europe\",\"social_supportP3\",\"freedomP3\", \"generosityP3\",\"social_supportP1\",\n",
    "                \"gdp_per_capitaP1\",\"happiness_scoreP1\", \"freedomP1\",\"life_expectancyP1\"]\n",
    "\n",
    "\n",
    "X_train_sel = X_train.copy().drop(columns=l_var_remove)\n",
    "X_test_sel = X_test.copy().drop(columns=l_var_remove)\n",
    "\n",
    "vif = pd.DataFrame() #Let us show th VIF scores in a data frame\n",
    "vif[\"Features\"] = X_train_sel.columns\n",
    "vif[\"VIF Factor\"] = [variance_inflation_factor(X_train_sel.values, i) for i in range(X_train_sel.shape[1])] #variance_inflation_factor calculates the scores #for each Feature\n",
    "vif.sort_values(by=\"VIF Factor\", ascending=False)\n",
    "\n",
    "display(vif.Features.tolist())"
   ]
  },
  {
   "cell_type": "code",
   "execution_count": 61,
   "metadata": {},
   "outputs": [
    {
     "name": "stdout",
     "output_type": "stream",
     "text": [
      "linear_varsel mse: 13.149272474939718\n"
     ]
    }
   ],
   "source": [
    "l_reg = ['Australia and New Zealand', 'Central and Eastern Europe', 'Eastern Asia', 'Latin America and Caribbean', \n",
    "         'Middle East and Northern Africa', 'North America', 'Southeastern Asia', 'Southern Asia', 'Sub-Saharan Africa']\n",
    "\n",
    "l_sel_var = [\"happiness_scoreP1\",\"happiness_scoreP2\",\"happiness_scoreP3\"]\n",
    "\n",
    "X_train_sel= X_train[l_sel_var+l_reg]\n",
    "X_test_sel = X_test[l_sel_var+l_reg]\n",
    "\n",
    "\n",
    "model = LinearRegression() \n",
    "linear_varsel_fit = model.fit(X_train_sel, Y_train)\n",
    "y_pred_lin = linear_varsel_fit.predict(X_test_sel)\n",
    "\n",
    "linear_mse_varsel = mean_squared_error(y_true, y_pred_lin)\n",
    "\n",
    "print(\"linear_varsel mse:\",linear_mse_varsel)"
   ]
  },
  {
   "cell_type": "code",
   "execution_count": 92,
   "metadata": {},
   "outputs": [
    {
     "data": {
      "text/plain": [
       "array([False, False, False, False,  True, False, False, False, False,\n",
       "       False, False, False, False, False, False, False, False, False,\n",
       "       False, False, False,  True,  True,  True, False,  True,  True,\n",
       "        True,  True,  True,  True])"
      ]
     },
     "metadata": {},
     "output_type": "display_data"
    },
    {
     "data": {
      "text/plain": [
       "array([19, 15, 10, 18,  1, 12,  7, 21, 14, 13, 17,  3,  5, 16, 20, 11,  9,\n",
       "       22,  8,  4,  6,  1,  1,  1,  2,  1,  1,  1,  1,  1,  1])"
      ]
     },
     "metadata": {},
     "output_type": "display_data"
    }
   ],
   "source": [
    "from sklearn.feature_selection import RFE\n",
    "from sklearn.svm import SVR\n",
    "\n",
    "model = LinearRegression() \n",
    "selector = RFE(model, n_features_to_select=10, step=1)\n",
    "selector = selector.fit(X_train, Y_train)\n",
    "\n",
    "display(selector.support_)\n",
    "\n",
    "display(selector.ranking_)"
   ]
  },
  {
   "cell_type": "code",
   "execution_count": 93,
   "metadata": {},
   "outputs": [
    {
     "data": {
      "text/plain": [
       "[4, 21, 22, 23, 25, 26, 27, 28, 29, 30]"
      ]
     },
     "metadata": {},
     "output_type": "display_data"
    },
    {
     "data": {
      "text/plain": [
       "['happiness_scoreP1',\n",
       " 'Australia and New Zealand',\n",
       " 'Central and Eastern Europe',\n",
       " 'Eastern Asia',\n",
       " 'Middle East and Northern Africa',\n",
       " 'North America',\n",
       " 'Southeastern Asia',\n",
       " 'Southern Asia',\n",
       " 'Sub-Saharan Africa',\n",
       " 'Western Europe']"
      ]
     },
     "metadata": {},
     "output_type": "display_data"
    }
   ],
   "source": [
    "selector_idx = [i for i in range(len(selector.support_)) if selector.support_[i]]\n",
    "display(selector_idx)\n",
    "\n",
    "selected_var = [X_train.columns[i] for i in selector_idx]\n",
    "display(selected_var)"
   ]
  },
  {
   "cell_type": "code",
   "execution_count": 99,
   "metadata": {},
   "outputs": [
    {
     "name": "stdout",
     "output_type": "stream",
     "text": [
      "linear varsel mse test: 14.573936484712481\n",
      "linear varsel mse train: 13.195777478829317\n"
     ]
    }
   ],
   "source": [
    "X_train_sel= X_train[selected_var]\n",
    "X_test_sel = X_test[selected_var]\n",
    "\n",
    "\n",
    "model = LinearRegression() \n",
    "linear_varsel_fit = model.fit(X_train_sel, Y_train)\n",
    "\n",
    "y_pred_lin_varsel = linear_varsel_fit.predict(X_test_sel)\n",
    "y_train_pred_lin_varsel = linear_varsel_fit.predict(X_train_sel)\n",
    "\n",
    "\n",
    "linear_varsel_mse_test = mean_squared_error(y_true, y_pred_lin_varsel)\n",
    "linear_varsel_mse_train = mean_squared_error(Y_train, y_train_pred_lin_varsel)\n",
    "\n",
    "print(\"linear varsel mse test:\",linear_varsel_mse_test)\n",
    "print(\"linear varsel mse train:\",linear_varsel_mse_train)"
   ]
  },
  {
   "cell_type": "code",
   "execution_count": null,
   "metadata": {},
   "outputs": [],
   "source": []
  }
 ],
 "metadata": {
  "kernelspec": {
   "display_name": "Python 3",
   "language": "python",
   "name": "python3"
  },
  "language_info": {
   "codemirror_mode": {
    "name": "ipython",
    "version": 3
   },
   "file_extension": ".py",
   "mimetype": "text/x-python",
   "name": "python",
   "nbconvert_exporter": "python",
   "pygments_lexer": "ipython3",
   "version": "3.7.0"
  }
 },
 "nbformat": 4,
 "nbformat_minor": 4
}
