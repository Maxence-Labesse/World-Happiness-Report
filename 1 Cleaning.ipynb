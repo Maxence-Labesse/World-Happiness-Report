{
 "cells": [
  {
   "cell_type": "markdown",
   "metadata": {},
   "source": [
    "## Table of Contents\n",
    "\n",
    "<div>\n",
    "\n",
    "   [Context](#Co)<br>\n",
    "        \n",
    "0. [**Merging data files**](#0)<br>\n",
    "    [Import](#0.1)<br>\n",
    "    [Columns comparison](#0.2)<br>\n",
    "    [Rows comparison](#0.3) <br>\n",
    "    [Last adjustments](#0.4) <br>\n",
    "    \n",
    "    \n",
    "1. [**Business validation**](#1)<br>\n",
    "    [Rules and Constraints](#1.1) <br>\n",
    "    [Accuracy](#1.2) <br>\n",
    "    [Consistency](#1.3) <br>\n",
    "    [Uniformity](#1.4) <br>\n",
    "    \n",
    "    \n",
    "2. [**Analytic validation**](#2) <br>\n",
    "    [Irregular Data](#1.4) <br>\n",
    "    [Unnecessary Data](#1.4) <br>    \n",
    "    \n",
    "    \n",
    "3. [**Final report**](#3) <br>\n",
    "</div>\n",
    "<hr>"
   ]
  },
  {
   "cell_type": "markdown",
   "metadata": {},
   "source": [
    "<a name=\"Co\"></a>\n",
    "# Context\n",
    "\n",
    "The **World Happiness Report** is a landmark survey of the state of global happiness from 2015 to 2019 in the world according to 6 main factors:\n",
    "* economic production, \n",
    "* social support, \n",
    "* life expectancy, freedom, \n",
    "* absence of corruption, \n",
    "* and generosity\n",
    "\n",
    "### Purposes of the project\n",
    "<ins> Data analysis: </ins>\n",
    "1. Give a clear picture of happiness around the world in 2019\n",
    "2. Analyse trends in happiness from 2015 to 2019\n",
    "\n",
    "<ins> Forecasting with Machine Learning</ins>(\\*)\n",
    "1. Can we predict a country happiness if we know the gdp per capita, life expectancy and other factors values?\n",
    "2. Can we predict a country happiness thanks to its history (happiness+factors)?\n",
    "\n",
    "(\\*) *Although data don't contain related information, the global pandemic may have a tremendous impact on the results*\n",
    "\n",
    "\n",
    "### Workflow\n",
    "* **Cleaning**\n",
    "* EDA\n",
    "* Data Visualization\n",
    "* Features Engineering\n",
    "* Machine Learning\n",
    "\n",
    "---------\n",
    "\n",
    "Cleaning is the process of detecting and correcting (or removing) corrupt or inaccurate records from the datato ensure that further analysis will be based on meaningful and relevant information.\n",
    "\n",
    "In this notebook, we will go through business and analytical data tests.\n",
    "\n",
    "*(Only tests related to the data will be mentioned but you can find a more exhaustiv list of tests [here](https://docs.google.com/document/d/1YCiHygWCx6A3R4XvKI8LnHtNd4yFUgSbumGx9fVAxXI/edit#heading=h.wvf1xn11p9y0))*\n"
   ]
  },
  {
   "cell_type": "markdown",
   "metadata": {},
   "source": [
    "------------\n",
    "------------\n",
    "<a name=\"0\"></a>\n",
    "# 0. Data files management\n",
    "\n",
    "Since our data are split in in 5 files (one for each year of study), our first task is to import the different files and ensure that their information can be matched in order to gather it all in a single dataset."
   ]
  },
  {
   "cell_type": "markdown",
   "metadata": {},
   "source": [
    "<a name=\"0.1\"></a>\n",
    "## Import"
   ]
  },
  {
   "cell_type": "markdown",
   "metadata": {},
   "source": [
    "Let's first import the required packages to import, investigate and plot data: **pandas**, **numpy** and **matplotlib**µ"
   ]
  },
  {
   "cell_type": "code",
   "execution_count": 1,
   "metadata": {
    "scrolled": true
   },
   "outputs": [],
   "source": [
    "import pandas as pd\n",
    "import numpy as np\n",
    "from matplotlib import pyplot\n",
    "%matplotlib inline"
   ]
  },
  {
   "cell_type": "markdown",
   "metadata": {},
   "source": [
    "We now need to import the 5 data files. For convenience, we'll store them into a dictionnary"
   ]
  },
  {
   "cell_type": "code",
   "execution_count": 2,
   "metadata": {},
   "outputs": [],
   "source": [
    "# We create a dictionnary where we'll store our 5 DataFrames, imported from data files\n",
    "dict_data = {}\n",
    "\n",
    "# for each year of study, store data as DataFrame in the dict\n",
    "for year in range(2015, 2020):\n",
    "    df = pd.read_csv('data/'+str(year)+'.csv')\n",
    "    dict_data[year] = df"
   ]
  },
  {
   "cell_type": "markdown",
   "metadata": {},
   "source": [
    "Let's have a quick overview of rows and columns for each file"
   ]
  },
  {
   "cell_type": "code",
   "execution_count": 3,
   "metadata": {},
   "outputs": [
    {
     "data": {
      "text/html": [
       "<div>\n",
       "<style scoped>\n",
       "    .dataframe tbody tr th:only-of-type {\n",
       "        vertical-align: middle;\n",
       "    }\n",
       "\n",
       "    .dataframe tbody tr th {\n",
       "        vertical-align: top;\n",
       "    }\n",
       "\n",
       "    .dataframe thead th {\n",
       "        text-align: right;\n",
       "    }\n",
       "</style>\n",
       "<table border=\"1\" class=\"dataframe\">\n",
       "  <thead>\n",
       "    <tr style=\"text-align: right;\">\n",
       "      <th></th>\n",
       "      <th>2015</th>\n",
       "      <th>2016</th>\n",
       "      <th>2017</th>\n",
       "      <th>2018</th>\n",
       "      <th>2019</th>\n",
       "    </tr>\n",
       "  </thead>\n",
       "  <tbody>\n",
       "    <tr>\n",
       "      <th>row</th>\n",
       "      <td>158</td>\n",
       "      <td>157</td>\n",
       "      <td>155</td>\n",
       "      <td>156</td>\n",
       "      <td>156</td>\n",
       "    </tr>\n",
       "    <tr>\n",
       "      <th>col</th>\n",
       "      <td>12</td>\n",
       "      <td>13</td>\n",
       "      <td>12</td>\n",
       "      <td>9</td>\n",
       "      <td>9</td>\n",
       "    </tr>\n",
       "  </tbody>\n",
       "</table>\n",
       "</div>"
      ],
      "text/plain": [
       "     2015  2016  2017  2018  2019\n",
       "row   158   157   155   156   156\n",
       "col    12    13    12     9     9"
      ]
     },
     "metadata": {},
     "output_type": "display_data"
    }
   ],
   "source": [
    "# We create a DataFrame where we'll store row and col numbers for each year of study\n",
    "df_dim = pd.DataFrame(['row','col'])\n",
    "# for each year, store row and col numbers in the DataFrame\n",
    "for year in range(2015, 2020):\n",
    "    df_dim = pd.concat([df_dim, pd.DataFrame(dict_data[year].shape, columns=[str(year)])],axis=1)\n",
    "# set index\n",
    "df_dim.set_index(0, inplace=True)\n",
    "df_dim.index.name = None\n",
    "\n",
    "display(df_dim)"
   ]
  },
  {
   "cell_type": "markdown",
   "metadata": {},
   "source": [
    "As we can see, datasets differs in rows and columns. Thus, we now have to investigate and find a common structure to gather them."
   ]
  },
  {
   "cell_type": "markdown",
   "metadata": {},
   "source": [
    "---------------\n",
    "<a name=\"0.2\"></a>\n",
    "## Columns comparison"
   ]
  },
  {
   "cell_type": "markdown",
   "metadata": {},
   "source": [
    "First, we need to try to identify the features shared/not shared by all the datasets"
   ]
  },
  {
   "cell_type": "code",
   "execution_count": 4,
   "metadata": {
    "scrolled": true
   },
   "outputs": [
    {
     "data": {
      "text/html": [
       "<div>\n",
       "<style scoped>\n",
       "    .dataframe tbody tr th:only-of-type {\n",
       "        vertical-align: middle;\n",
       "    }\n",
       "\n",
       "    .dataframe tbody tr th {\n",
       "        vertical-align: top;\n",
       "    }\n",
       "\n",
       "    .dataframe thead th {\n",
       "        text-align: right;\n",
       "    }\n",
       "</style>\n",
       "<table border=\"1\" class=\"dataframe\">\n",
       "  <thead>\n",
       "    <tr style=\"text-align: right;\">\n",
       "      <th></th>\n",
       "      <th>2015</th>\n",
       "      <th>2016</th>\n",
       "      <th>2017</th>\n",
       "      <th>2018</th>\n",
       "      <th>2019</th>\n",
       "    </tr>\n",
       "  </thead>\n",
       "  <tbody>\n",
       "    <tr>\n",
       "      <th>0</th>\n",
       "      <td>Country</td>\n",
       "      <td>Country</td>\n",
       "      <td>Country</td>\n",
       "      <td>Overall rank</td>\n",
       "      <td>Overall rank</td>\n",
       "    </tr>\n",
       "    <tr>\n",
       "      <th>1</th>\n",
       "      <td>Region</td>\n",
       "      <td>Region</td>\n",
       "      <td>Happiness.Rank</td>\n",
       "      <td>Country or region</td>\n",
       "      <td>Country or region</td>\n",
       "    </tr>\n",
       "    <tr>\n",
       "      <th>2</th>\n",
       "      <td>Happiness Rank</td>\n",
       "      <td>Happiness Rank</td>\n",
       "      <td>Happiness.Score</td>\n",
       "      <td>Score</td>\n",
       "      <td>Score</td>\n",
       "    </tr>\n",
       "    <tr>\n",
       "      <th>3</th>\n",
       "      <td>Happiness Score</td>\n",
       "      <td>Happiness Score</td>\n",
       "      <td>Whisker.high</td>\n",
       "      <td>GDP per capita</td>\n",
       "      <td>GDP per capita</td>\n",
       "    </tr>\n",
       "    <tr>\n",
       "      <th>4</th>\n",
       "      <td>Standard Error</td>\n",
       "      <td>Lower Confidence Interval</td>\n",
       "      <td>Whisker.low</td>\n",
       "      <td>Social support</td>\n",
       "      <td>Social support</td>\n",
       "    </tr>\n",
       "    <tr>\n",
       "      <th>5</th>\n",
       "      <td>Economy (GDP per Capita)</td>\n",
       "      <td>Upper Confidence Interval</td>\n",
       "      <td>Economy..GDP.per.Capita.</td>\n",
       "      <td>Healthy life expectancy</td>\n",
       "      <td>Healthy life expectancy</td>\n",
       "    </tr>\n",
       "    <tr>\n",
       "      <th>6</th>\n",
       "      <td>Family</td>\n",
       "      <td>Economy (GDP per Capita)</td>\n",
       "      <td>Family</td>\n",
       "      <td>Freedom to make life choices</td>\n",
       "      <td>Freedom to make life choices</td>\n",
       "    </tr>\n",
       "    <tr>\n",
       "      <th>7</th>\n",
       "      <td>Health (Life Expectancy)</td>\n",
       "      <td>Family</td>\n",
       "      <td>Health..Life.Expectancy.</td>\n",
       "      <td>Generosity</td>\n",
       "      <td>Generosity</td>\n",
       "    </tr>\n",
       "    <tr>\n",
       "      <th>8</th>\n",
       "      <td>Freedom</td>\n",
       "      <td>Health (Life Expectancy)</td>\n",
       "      <td>Freedom</td>\n",
       "      <td>Perceptions of corruption</td>\n",
       "      <td>Perceptions of corruption</td>\n",
       "    </tr>\n",
       "    <tr>\n",
       "      <th>9</th>\n",
       "      <td>Trust (Government Corruption)</td>\n",
       "      <td>Freedom</td>\n",
       "      <td>Generosity</td>\n",
       "      <td>NaN</td>\n",
       "      <td>NaN</td>\n",
       "    </tr>\n",
       "    <tr>\n",
       "      <th>10</th>\n",
       "      <td>Generosity</td>\n",
       "      <td>Trust (Government Corruption)</td>\n",
       "      <td>Trust..Government.Corruption.</td>\n",
       "      <td>NaN</td>\n",
       "      <td>NaN</td>\n",
       "    </tr>\n",
       "    <tr>\n",
       "      <th>11</th>\n",
       "      <td>Dystopia Residual</td>\n",
       "      <td>Generosity</td>\n",
       "      <td>Dystopia.Residual</td>\n",
       "      <td>NaN</td>\n",
       "      <td>NaN</td>\n",
       "    </tr>\n",
       "    <tr>\n",
       "      <th>12</th>\n",
       "      <td>NaN</td>\n",
       "      <td>Dystopia Residual</td>\n",
       "      <td>NaN</td>\n",
       "      <td>NaN</td>\n",
       "      <td>NaN</td>\n",
       "    </tr>\n",
       "  </tbody>\n",
       "</table>\n",
       "</div>"
      ],
      "text/plain": [
       "                             2015                           2016  \\\n",
       "0                         Country                        Country   \n",
       "1                          Region                         Region   \n",
       "2                  Happiness Rank                 Happiness Rank   \n",
       "3                 Happiness Score                Happiness Score   \n",
       "4                  Standard Error      Lower Confidence Interval   \n",
       "5        Economy (GDP per Capita)      Upper Confidence Interval   \n",
       "6                          Family       Economy (GDP per Capita)   \n",
       "7        Health (Life Expectancy)                         Family   \n",
       "8                         Freedom       Health (Life Expectancy)   \n",
       "9   Trust (Government Corruption)                        Freedom   \n",
       "10                     Generosity  Trust (Government Corruption)   \n",
       "11              Dystopia Residual                     Generosity   \n",
       "12                            NaN              Dystopia Residual   \n",
       "\n",
       "                             2017                          2018  \\\n",
       "0                         Country                  Overall rank   \n",
       "1                  Happiness.Rank             Country or region   \n",
       "2                 Happiness.Score                         Score   \n",
       "3                    Whisker.high                GDP per capita   \n",
       "4                     Whisker.low                Social support   \n",
       "5        Economy..GDP.per.Capita.       Healthy life expectancy   \n",
       "6                          Family  Freedom to make life choices   \n",
       "7        Health..Life.Expectancy.                    Generosity   \n",
       "8                         Freedom     Perceptions of corruption   \n",
       "9                      Generosity                           NaN   \n",
       "10  Trust..Government.Corruption.                           NaN   \n",
       "11              Dystopia.Residual                           NaN   \n",
       "12                            NaN                           NaN   \n",
       "\n",
       "                            2019  \n",
       "0                   Overall rank  \n",
       "1              Country or region  \n",
       "2                          Score  \n",
       "3                 GDP per capita  \n",
       "4                 Social support  \n",
       "5        Healthy life expectancy  \n",
       "6   Freedom to make life choices  \n",
       "7                     Generosity  \n",
       "8      Perceptions of corruption  \n",
       "9                            NaN  \n",
       "10                           NaN  \n",
       "11                           NaN  \n",
       "12                           NaN  "
      ]
     },
     "metadata": {},
     "output_type": "display_data"
    }
   ],
   "source": [
    "# We create a DataFrame to store the columns lists for each set.\n",
    "df_col = pd.DataFrame()\n",
    "# For each year, store columns in DataFrame\n",
    "for year in range(2015, 2020):\n",
    "    df_col = pd.concat([df_col, pd.DataFrame(dict_data[year].columns.tolist(), columns=[str(year)])],axis=1)\n",
    "\n",
    "display(df_col)"
   ]
  },
  {
   "cell_type": "markdown",
   "metadata": {},
   "source": [
    "OK. Looking at this output, we can easily notice 3 different cases:\n",
    "\n",
    "**1. Features shared by the 5 sets with the  same (or slightly different) names**\n",
    "- Happiness Rank / Happiness.Rank / Overall rank\n",
    "- Happiness Score/ Happiness.Score / Happiness.Score / Score\n",
    "- Economy (GDP per Capita) / Economy..GDP.per.Capita./ GDP per capita\n",
    "- Health (Life Expectancy) / Health..Life.Expectancy. / Healthy life expectancy\n",
    "- Freedom / Freedom to make life choices\n",
    "- Generosity\n",
    "\n",
    "\n",
    "**2. Features who seem to be the same but need a deeper examination**\n",
    "- Country + Region / Country / Country or region\n",
    "- Trust (Government Corruption)\t/ Trust..Government.Corruption.\t/ Perceptions of corruption\t\n",
    "- Family / Social Support\n",
    "\n",
    "\n",
    "**3. Other features that are not contained in all the data files**\n",
    "- 2015, 2016, 2017: Dystopia Residual / Dystopia.Residual\t\n",
    "- 2015 : Standard error\n",
    "- 2016 : Lower Confidence Interval + Upper Confidence Interval\t\n",
    "- 2017 : Whisker.high + Whisker.low"
   ]
  },
  {
   "cell_type": "markdown",
   "metadata": {},
   "source": [
    "-----------\n",
    "**1. Features shared by the 5 sets with the  same (or slightly different) names**\n",
    "\n",
    "This case is easy to deal with. We just have to rename the features (in respect of naming convensions: lower case and underscores)"
   ]
  },
  {
   "cell_type": "code",
   "execution_count": 5,
   "metadata": {
    "scrolled": true
   },
   "outputs": [],
   "source": [
    "# 2015 \n",
    "dict_data[2015].rename(columns={'Happiness Rank': \"happiness_rank\",  \"Happiness Score\": \"happiness_score\", \"Economy (GDP per Capita)\":\"gdp_per_capita\", \n",
    "                                \"Health (Life Expectancy)\": \"life_expectancy\", \"Freedom\": \"freedom\", \"Generosity\": \"generosity\"}, inplace=True)\n",
    "# 2016\n",
    "dict_data[2016].rename(columns={'Happiness Rank': \"happiness_rank\", \"Happiness Score\": \"happiness_score\", \"Economy (GDP per Capita)\":\"gdp_per_capita\", \n",
    "                                \"Health (Life Expectancy)\": \"life_expectancy\", \"Freedom\": \"freedom\", \"Generosity\": \"generosity\"}, inplace=True)\n",
    "# 2017\n",
    "dict_data[2017].rename(columns={'Happiness.Rank': \"happiness_rank\", \"Happiness.Score\": \"happiness_score\", \"Economy..GDP.per.Capita.\":\"gdp_per_capita\", \n",
    "                                \"Health..Life.Expectancy.\": \"life_expectancy\", \"Freedom\": \"freedom\", \"Generosity\": \"generosity\"}, inplace=True)\n",
    "# 2018\n",
    "dict_data[2018].rename(columns={'Overall rank': \"happiness_rank\", \"Score\": \"happiness_score\", \"GDP per capita\":\"gdp_per_capita\", \n",
    "                                \"Healthy life expectancy\": \"life_expectancy\", \"Freedom to make life choices\": \"freedom\", \"Generosity\": \"generosity\"}, inplace=True)\n",
    "# 2019\n",
    "dict_data[2019].rename(columns={'Overall rank': \"happiness_rank\", \"Score\": \"happiness_score\", \"GDP per capita\":\"gdp_per_capita\",  \n",
    "                                \"Healthy life expectancy\": \"life_expectancy\", \"Freedom to make life choices\": \"freedom\", \"Generosity\": \"generosity\"}, inplace=True)"
   ]
  },
  {
   "cell_type": "markdown",
   "metadata": {},
   "source": [
    "**2. Features who seem to be the same but need a deeper examination**\n",
    "\n",
    "For the following features, we need to go deeper to make sure they contain the same information"
   ]
  },
  {
   "cell_type": "markdown",
   "metadata": {},
   "source": [
    "* Country + Region / Country / Country or Region "
   ]
  },
  {
   "cell_type": "code",
   "execution_count": 6,
   "metadata": {},
   "outputs": [
    {
     "name": "stdout",
     "output_type": "stream",
     "text": [
      "141 are present in the 5 datasets\n"
     ]
    }
   ],
   "source": [
    "# First, let's store countries values in dict\n",
    "d_countries = {}\n",
    "d_countries[2015] = dict_data[2015]['Country'].tolist()\n",
    "d_countries[2016] = dict_data[2016]['Country'].tolist()\n",
    "d_countries[2017] = dict_data[2017]['Country'].tolist()\n",
    "d_countries[2018] = dict_data[2018]['Country or region'].tolist()\n",
    "d_countries[2019] = dict_data[2019]['Country or region'].tolist()\n",
    "\n",
    "# Identify the countries that appear in all sets.\n",
    "l_common_countries = set(d_countries[2015]).intersection(d_countries[2016], d_countries[2017], d_countries[2018], d_countries[2019])\n",
    "print(str(len(l_common_countries))+\" are present in the 5 datasets\")"
   ]
  },
  {
   "cell_type": "markdown",
   "metadata": {},
   "source": [
    "Since we know that sets contains between 155 and 158 rows each, we can assert that all the features contains the same information"
   ]
  },
  {
   "cell_type": "markdown",
   "metadata": {},
   "source": [
    "------------\n",
    "* Trust (Government Corruption) / Trust..Government.Corruption. / Perceptions of corruption\n",
    "\n",
    "Let's compare the distribution in the 5 sets:"
   ]
  },
  {
   "cell_type": "code",
   "execution_count": 7,
   "metadata": {
    "scrolled": false
   },
   "outputs": [
    {
     "name": "stderr",
     "output_type": "stream",
     "text": [
      "C:\\Users\\maxen\\anaconda3\\lib\\site-packages\\numpy\\core\\_asarray.py:83: VisibleDeprecationWarning: Creating an ndarray from ragged nested sequences (which is a list-or-tuple of lists-or-tuples-or ndarrays with different lengths or shapes) is deprecated. If you meant to do this, you must specify 'dtype=object' when creating the ndarray\n",
      "  return array(a, dtype, copy=False, order=order)\n"
     ]
    },
    {
     "data": {
      "image/png": "[encoded data removed]",
      "text/plain": [
       "<Figure size 1080x216 with 1 Axes>"
      ]
     },
     "metadata": {
      "needs_background": "light"
     },
     "output_type": "display_data"
    },
    {
     "data": {
      "image/png": "[encoded data removed]",
      "text/plain": [
       "<Figure size 1080x216 with 5 Axes>"
      ]
     },
     "metadata": {
      "needs_background": "light"
     },
     "output_type": "display_data"
    }
   ],
   "source": [
    "# First, let's store government corruption values in dict\n",
    "d_gov = {}\n",
    "d_gov[2015] = dict_data[2015]['Trust (Government Corruption)'].tolist()\n",
    "d_gov[2016] = dict_data[2016]['Trust (Government Corruption)'].tolist()\n",
    "d_gov[2017] = dict_data[2017]['Trust..Government.Corruption.'].tolist()\n",
    "d_gov[2018] = dict_data[2018]['Perceptions of corruption'].fillna(dict_data[2018]['Perceptions of corruption'].median())\n",
    "d_gov[2019] = dict_data[2019]['Perceptions of corruption']\n",
    "\n",
    "# Boxplot\n",
    "pyplot.figure(figsize=(15,3))\n",
    "pyplot.boxplot([d_gov[2015], d_gov[2016], d_gov[2017], d_gov[2018], d_gov[2019]])\n",
    "pyplot.xticks([1, 2, 3, 4, 5], ['2015', '2016', '2017','2018','2019'])\n",
    "pyplot.title('Trust (Government Corruption) / Trust..Government.Corruption. / Perceptions of corruption')\n",
    "pyplot.show()\n",
    "\n",
    "# Histogram\n",
    "pyplot.figure(figsize=(15,3))\n",
    "i = 151 # subplot initial position\n",
    "for year in range(2015, 2020):\n",
    "    pyplot.subplot(i)\n",
    "    pyplot.hist(d_gov[year])\n",
    "    pyplot.title(str(year))\n",
    "    i+=1\n",
    "pyplot.show()"
   ]
  },
  {
   "cell_type": "markdown",
   "metadata": {},
   "source": [
    "We can observe that distribution over the years is very similar. Again, we can assert the 5 features contain the same information."
   ]
  },
  {
   "cell_type": "markdown",
   "metadata": {},
   "source": [
    "----------\n",
    "* Family / Social Support"
   ]
  },
  {
   "cell_type": "code",
   "execution_count": 8,
   "metadata": {},
   "outputs": [
    {
     "name": "stderr",
     "output_type": "stream",
     "text": [
      "C:\\Users\\maxen\\anaconda3\\lib\\site-packages\\numpy\\core\\_asarray.py:83: VisibleDeprecationWarning: Creating an ndarray from ragged nested sequences (which is a list-or-tuple of lists-or-tuples-or ndarrays with different lengths or shapes) is deprecated. If you meant to do this, you must specify 'dtype=object' when creating the ndarray\n",
      "  return array(a, dtype, copy=False, order=order)\n"
     ]
    },
    {
     "data": {
      "image/png": "[encoded data removed]",
      "text/plain": [
       "<Figure size 1080x216 with 1 Axes>"
      ]
     },
     "metadata": {
      "needs_background": "light"
     },
     "output_type": "display_data"
    },
    {
     "data": {
      "image/png": "[encoded data removed]",
      "text/plain": [
       "<Figure size 1080x216 with 5 Axes>"
      ]
     },
     "metadata": {
      "needs_background": "light"
     },
     "output_type": "display_data"
    }
   ],
   "source": [
    "# First, let's store government corruption values in dict\n",
    "d_gov = {}\n",
    "d_gov[2015] = dict_data[2015]['Family'].tolist()\n",
    "d_gov[2016] = dict_data[2016]['Family'].tolist()\n",
    "d_gov[2017] = dict_data[2017]['Family'].tolist()\n",
    "d_gov[2018] = dict_data[2018]['Social support']\n",
    "d_gov[2019] = dict_data[2019]['Social support']\n",
    "\n",
    "# Boxplot\n",
    "pyplot.figure(figsize=(15,3))\n",
    "pyplot.boxplot([d_gov[2015], d_gov[2016], d_gov[2017], d_gov[2018], d_gov[2019]])\n",
    "pyplot.xticks([1, 2, 3, 4, 5], ['2015', '2016', '2017','2018','2019'])\n",
    "pyplot.title('Family / Social Support')\n",
    "pyplot.show()\n",
    "\n",
    "# Histogram\n",
    "pyplot.figure(figsize=(15,3))\n",
    "i = 151 # subplot initial position\n",
    "for year in range(2015, 2020):\n",
    "    pyplot.subplot(i)\n",
    "    pyplot.hist(d_gov[year])\n",
    "    pyplot.title(str(year))\n",
    "    i+=1\n",
    "pyplot.show()\n",
    "\n",
    "# => We can observe that the distribution is very similar between 2017 and (2018-2019). \n",
    "# Thus, we can assume that Social support and family \n"
   ]
  },
  {
   "cell_type": "markdown",
   "metadata": {},
   "source": [
    "Looking at the distribution, which is very similar between 2017 and 2018, we can assert that Family and Social support contain the same information.\n",
    " \n",
    "Let's rename the 3 features with common names: `country`, `coruption_perception` and `social_support`"
   ]
  },
  {
   "cell_type": "code",
   "execution_count": 9,
   "metadata": {},
   "outputs": [],
   "source": [
    "# country\n",
    "dict_data[2015].rename(columns={'Country': \"country\"}, inplace=True)\n",
    "dict_data[2016].rename(columns={'Country': \"country\"}, inplace=True)\n",
    "dict_data[2017].rename(columns={'Country': \"country\"}, inplace=True)\n",
    "dict_data[2018].rename(columns={'Country or region': \"country\"}, inplace=True)\n",
    "dict_data[2019].rename(columns={'Country or region': \"country\"}, inplace=True)\n",
    "\n",
    "# corruption_perception\n",
    "dict_data[2015].rename(columns={'Trust (Government Corruption)': \"corruption_perception\"}, inplace=True)\n",
    "dict_data[2016].rename(columns={'Trust (Government Corruption)': \"corruption_perception\"}, inplace=True)\n",
    "dict_data[2017].rename(columns={'Trust..Government.Corruption.': \"corruption_perception\"}, inplace=True)\n",
    "dict_data[2018].rename(columns={'Perceptions of corruption': \"corruption_perception\"}, inplace=True)\n",
    "dict_data[2019].rename(columns={'Perceptions of corruption': \"corruption_perception\"}, inplace=True)\n",
    "\n",
    "# social_support\n",
    "dict_data[2015].rename(columns={'Family': \"social_support\"}, inplace=True)\n",
    "dict_data[2016].rename(columns={'Family': \"social_support\"}, inplace=True)\n",
    "dict_data[2017].rename(columns={'Family': \"social_support\"}, inplace=True)\n",
    "dict_data[2018].rename(columns={'Social support': \"social_support\"}, inplace=True)\n",
    "dict_data[2019].rename(columns={'Social support': \"social_support\"}, inplace=True)"
   ]
  },
  {
   "cell_type": "markdown",
   "metadata": {},
   "source": [
    "---------\n",
    "**3. Other features that are not contained in all the data files**\n",
    "\n",
    "Since the purpose of this project is to analyse `happiness`` through time, we take the side of removing these features."
   ]
  },
  {
   "cell_type": "code",
   "execution_count": 10,
   "metadata": {},
   "outputs": [],
   "source": [
    "# 2015, 2016, 2017: Dystopia Residual / Dystopia.Residual\n",
    "# 2015 : Standard error\n",
    "# 2016 : Lower Confidence Interval + Upper Confidence Interval\n",
    "# 2017 : Whisker.high + Whisker.low\n",
    "dict_data[2015] = dict_data[2015].drop(columns=['Dystopia Residual','Standard Error'])\n",
    "dict_data[2016] = dict_data[2016].drop(columns=['Dystopia Residual','Lower Confidence Interval','Upper Confidence Interval'])\n",
    "dict_data[2017] = dict_data[2017].drop(columns=['Dystopia.Residual','Whisker.high','Whisker.low'])\n"
   ]
  },
  {
   "cell_type": "markdown",
   "metadata": {},
   "source": [
    "-----------\n",
    "<a name=\"0.3\"></a>\n",
    "## Rows comparison\n",
    "As we saw earleier, 141 countries are common between the 5 sets, let's keep only these ones."
   ]
  },
  {
   "cell_type": "code",
   "execution_count": 11,
   "metadata": {},
   "outputs": [],
   "source": [
    "# For each set, we only keep the 141 common countries previously identified\n",
    "for year in range(2015, 2020):\n",
    "    df = dict_data[year]\n",
    "    df = df[df['country'].isin(l_common_countries)]\n",
    "    dict_data[year] = df\n",
    "    \n",
    "# We could look closer to the name and try to find same countries with different orthographes but we won't do that here."
   ]
  },
  {
   "cell_type": "markdown",
   "metadata": {},
   "source": [
    "Our 5 files now contain the same countries. But because we removed some observations in each, we have to recalculate the `happiness rank`"
   ]
  },
  {
   "cell_type": "code",
   "execution_count": 12,
   "metadata": {},
   "outputs": [
    {
     "name": "stdout",
     "output_type": "stream",
     "text": [
      "Done !\n"
     ]
    }
   ],
   "source": [
    "for year in range(2015, 2020):\n",
    "    df = dict_data[year].sort_values(by='happiness_rank')\n",
    "    df['happiness_rank'] = np.arange(len(df))+1\n",
    "    dict_data[year] = df\n",
    "    \n",
    "print(\"Done !\")"
   ]
  },
  {
   "cell_type": "markdown",
   "metadata": {},
   "source": [
    "-------------\n",
    "<a name=\"0.4\"></a>\n",
    "## Last adjustments\n",
    "\n",
    "* Since 2015 and 2016 sets contains corresponding `regions` to `countries`, we can add this information to the others sets"
   ]
  },
  {
   "cell_type": "code",
   "execution_count": 13,
   "metadata": {},
   "outputs": [
    {
     "name": "stdout",
     "output_type": "stream",
     "text": [
      "(141, 10)\n",
      "(141, 10)\n",
      "(141, 10)\n"
     ]
    }
   ],
   "source": [
    "# Rename Region in respect of naming conventions\n",
    "dict_data[2015].rename(columns={'Region':'region'}, inplace=True)\n",
    "dict_data[2016].rename(columns={'Region':'region'}, inplace=True)\n",
    "\n",
    "# add region information in 2017-2019 sets\n",
    "df_country_reg = dict_data[2015][['country','region']].copy()\n",
    "for year in range(2017,2020):\n",
    "    dict_data[year] = pd.merge(dict_data[year], df_country_reg, on='country', how='inner')\n",
    "    print(dict_data[year].shape)"
   ]
  },
  {
   "cell_type": "markdown",
   "metadata": {},
   "source": [
    "* We add a new column containing the `year` of study"
   ]
  },
  {
   "cell_type": "code",
   "execution_count": 14,
   "metadata": {},
   "outputs": [],
   "source": [
    "# for each set, create a new column \"year\" containing the year of study\n",
    "for year in range(2015,2020):\n",
    "    if 'year' not in dict_data[year].columns.tolist():\n",
    "        dict_data[year]['year']=year"
   ]
  },
  {
   "cell_type": "markdown",
   "metadata": {},
   "source": [
    "------------\n",
    "## Validation and merge"
   ]
  },
  {
   "cell_type": "markdown",
   "metadata": {},
   "source": [
    "let's take a look at our modified data files to ensure they can be merged"
   ]
  },
  {
   "cell_type": "code",
   "execution_count": 15,
   "metadata": {
    "scrolled": true
   },
   "outputs": [
    {
     "data": {
      "text/html": [
       "<div>\n",
       "<style scoped>\n",
       "    .dataframe tbody tr th:only-of-type {\n",
       "        vertical-align: middle;\n",
       "    }\n",
       "\n",
       "    .dataframe tbody tr th {\n",
       "        vertical-align: top;\n",
       "    }\n",
       "\n",
       "    .dataframe thead th {\n",
       "        text-align: right;\n",
       "    }\n",
       "</style>\n",
       "<table border=\"1\" class=\"dataframe\">\n",
       "  <thead>\n",
       "    <tr style=\"text-align: right;\">\n",
       "      <th></th>\n",
       "      <th>2015</th>\n",
       "      <th>2016</th>\n",
       "      <th>2017</th>\n",
       "      <th>2018</th>\n",
       "      <th>2019</th>\n",
       "    </tr>\n",
       "  </thead>\n",
       "  <tbody>\n",
       "    <tr>\n",
       "      <th>0</th>\n",
       "      <td>corruption_perception</td>\n",
       "      <td>corruption_perception</td>\n",
       "      <td>corruption_perception</td>\n",
       "      <td>corruption_perception</td>\n",
       "      <td>corruption_perception</td>\n",
       "    </tr>\n",
       "    <tr>\n",
       "      <th>1</th>\n",
       "      <td>country</td>\n",
       "      <td>country</td>\n",
       "      <td>country</td>\n",
       "      <td>country</td>\n",
       "      <td>country</td>\n",
       "    </tr>\n",
       "    <tr>\n",
       "      <th>2</th>\n",
       "      <td>freedom</td>\n",
       "      <td>freedom</td>\n",
       "      <td>freedom</td>\n",
       "      <td>freedom</td>\n",
       "      <td>freedom</td>\n",
       "    </tr>\n",
       "    <tr>\n",
       "      <th>3</th>\n",
       "      <td>gdp_per_capita</td>\n",
       "      <td>gdp_per_capita</td>\n",
       "      <td>gdp_per_capita</td>\n",
       "      <td>gdp_per_capita</td>\n",
       "      <td>gdp_per_capita</td>\n",
       "    </tr>\n",
       "    <tr>\n",
       "      <th>4</th>\n",
       "      <td>generosity</td>\n",
       "      <td>generosity</td>\n",
       "      <td>generosity</td>\n",
       "      <td>generosity</td>\n",
       "      <td>generosity</td>\n",
       "    </tr>\n",
       "    <tr>\n",
       "      <th>5</th>\n",
       "      <td>happiness_rank</td>\n",
       "      <td>happiness_rank</td>\n",
       "      <td>happiness_rank</td>\n",
       "      <td>happiness_rank</td>\n",
       "      <td>happiness_rank</td>\n",
       "    </tr>\n",
       "    <tr>\n",
       "      <th>6</th>\n",
       "      <td>happiness_score</td>\n",
       "      <td>happiness_score</td>\n",
       "      <td>happiness_score</td>\n",
       "      <td>happiness_score</td>\n",
       "      <td>happiness_score</td>\n",
       "    </tr>\n",
       "    <tr>\n",
       "      <th>7</th>\n",
       "      <td>life_expectancy</td>\n",
       "      <td>life_expectancy</td>\n",
       "      <td>life_expectancy</td>\n",
       "      <td>life_expectancy</td>\n",
       "      <td>life_expectancy</td>\n",
       "    </tr>\n",
       "    <tr>\n",
       "      <th>8</th>\n",
       "      <td>region</td>\n",
       "      <td>region</td>\n",
       "      <td>region</td>\n",
       "      <td>region</td>\n",
       "      <td>region</td>\n",
       "    </tr>\n",
       "    <tr>\n",
       "      <th>9</th>\n",
       "      <td>social_support</td>\n",
       "      <td>social_support</td>\n",
       "      <td>social_support</td>\n",
       "      <td>social_support</td>\n",
       "      <td>social_support</td>\n",
       "    </tr>\n",
       "    <tr>\n",
       "      <th>10</th>\n",
       "      <td>year</td>\n",
       "      <td>year</td>\n",
       "      <td>year</td>\n",
       "      <td>year</td>\n",
       "      <td>year</td>\n",
       "    </tr>\n",
       "  </tbody>\n",
       "</table>\n",
       "</div>"
      ],
      "text/plain": [
       "                     2015                   2016                   2017  \\\n",
       "0   corruption_perception  corruption_perception  corruption_perception   \n",
       "1                 country                country                country   \n",
       "2                 freedom                freedom                freedom   \n",
       "3          gdp_per_capita         gdp_per_capita         gdp_per_capita   \n",
       "4              generosity             generosity             generosity   \n",
       "5          happiness_rank         happiness_rank         happiness_rank   \n",
       "6         happiness_score        happiness_score        happiness_score   \n",
       "7         life_expectancy        life_expectancy        life_expectancy   \n",
       "8                  region                 region                 region   \n",
       "9          social_support         social_support         social_support   \n",
       "10                   year                   year                   year   \n",
       "\n",
       "                     2018                   2019  \n",
       "0   corruption_perception  corruption_perception  \n",
       "1                 country                country  \n",
       "2                 freedom                freedom  \n",
       "3          gdp_per_capita         gdp_per_capita  \n",
       "4              generosity             generosity  \n",
       "5          happiness_rank         happiness_rank  \n",
       "6         happiness_score        happiness_score  \n",
       "7         life_expectancy        life_expectancy  \n",
       "8                  region                 region  \n",
       "9          social_support         social_support  \n",
       "10                   year                   year  "
      ]
     },
     "metadata": {},
     "output_type": "display_data"
    }
   ],
   "source": [
    "# Same as we did earlier\n",
    "df_col = pd.DataFrame()\n",
    "\n",
    "for year in range(2015, 2020):\n",
    "    dict_data[year] = dict_data[year].reindex(sorted(dict_data[year].columns), axis=1)\n",
    "    df_col = pd.concat([df_col, pd.DataFrame(dict_data[year].columns.tolist(), columns=[str(year)])],axis=1)\n",
    "\n",
    "display(df_col)"
   ]
  },
  {
   "cell_type": "markdown",
   "metadata": {},
   "source": [
    "The first step of cleaning our data is over. As we can see, our 5 datasets columns match perfectly, we can now merge the 5 sets in a single DataFrame"
   ]
  },
  {
   "cell_type": "code",
   "execution_count": 16,
   "metadata": {},
   "outputs": [
    {
     "name": "stdout",
     "output_type": "stream",
     "text": [
      "gathering dataset dimensions: (705, 11)\n"
     ]
    },
    {
     "data": {
      "text/html": [
       "<div>\n",
       "<style scoped>\n",
       "    .dataframe tbody tr th:only-of-type {\n",
       "        vertical-align: middle;\n",
       "    }\n",
       "\n",
       "    .dataframe tbody tr th {\n",
       "        vertical-align: top;\n",
       "    }\n",
       "\n",
       "    .dataframe thead th {\n",
       "        text-align: right;\n",
       "    }\n",
       "</style>\n",
       "<table border=\"1\" class=\"dataframe\">\n",
       "  <thead>\n",
       "    <tr style=\"text-align: right;\">\n",
       "      <th></th>\n",
       "      <th>columns</th>\n",
       "    </tr>\n",
       "  </thead>\n",
       "  <tbody>\n",
       "    <tr>\n",
       "      <th>0</th>\n",
       "      <td>corruption_perception</td>\n",
       "    </tr>\n",
       "    <tr>\n",
       "      <th>1</th>\n",
       "      <td>country</td>\n",
       "    </tr>\n",
       "    <tr>\n",
       "      <th>2</th>\n",
       "      <td>freedom</td>\n",
       "    </tr>\n",
       "    <tr>\n",
       "      <th>3</th>\n",
       "      <td>gdp_per_capita</td>\n",
       "    </tr>\n",
       "    <tr>\n",
       "      <th>4</th>\n",
       "      <td>generosity</td>\n",
       "    </tr>\n",
       "    <tr>\n",
       "      <th>5</th>\n",
       "      <td>happiness_rank</td>\n",
       "    </tr>\n",
       "    <tr>\n",
       "      <th>6</th>\n",
       "      <td>happiness_score</td>\n",
       "    </tr>\n",
       "    <tr>\n",
       "      <th>7</th>\n",
       "      <td>life_expectancy</td>\n",
       "    </tr>\n",
       "    <tr>\n",
       "      <th>8</th>\n",
       "      <td>region</td>\n",
       "    </tr>\n",
       "    <tr>\n",
       "      <th>9</th>\n",
       "      <td>social_support</td>\n",
       "    </tr>\n",
       "    <tr>\n",
       "      <th>10</th>\n",
       "      <td>year</td>\n",
       "    </tr>\n",
       "  </tbody>\n",
       "</table>\n",
       "</div>"
      ],
      "text/plain": [
       "                  columns\n",
       "0   corruption_perception\n",
       "1                 country\n",
       "2                 freedom\n",
       "3          gdp_per_capita\n",
       "4              generosity\n",
       "5          happiness_rank\n",
       "6         happiness_score\n",
       "7         life_expectancy\n",
       "8                  region\n",
       "9          social_support\n",
       "10                   year"
      ]
     },
     "metadata": {},
     "output_type": "display_data"
    }
   ],
   "source": [
    "# We create our gathering dataset\n",
    "df = pd.DataFrame()\n",
    "\n",
    "# we store each set in it\n",
    "for year in range(2015,2020):\n",
    "    df = pd.concat([df, dict_data[year]])\n",
    "\n",
    "print(\"gathering dataset dimensions:\",df.shape)\n",
    "display(pd.DataFrame({\"columns\":df.columns.tolist()}))"
   ]
  },
  {
   "cell_type": "markdown",
   "metadata": {},
   "source": [
    "---------------\n",
    "---------------\n",
    "<a name=\"1\"></a>\n",
    "# 1. Business validation\n",
    "\n",
    "There are a number of ways to examine data sets for errors and anomalies, but all depend upon preconstructed validation rules. These rules set expected parameters for data, and they vary widely in complexity based upon the needs of the user. "
   ]
  },
  {
   "cell_type": "markdown",
   "metadata": {},
   "source": [
    "<a name=\"1.1\"></a>\n",
    "## Rules and Constraints\n",
    "Test if the data data conform to defined business rules or constraints.\n",
    "\n",
    "*Since we have no business expert for this dataset, we'll try to figure out our propre rules.*"
   ]
  },
  {
   "cell_type": "markdown",
   "metadata": {},
   "source": [
    "**Data types**"
   ]
  },
  {
   "cell_type": "code",
   "execution_count": 17,
   "metadata": {
    "scrolled": true
   },
   "outputs": [
    {
     "data": {
      "text/plain": [
       "corruption_perception    float64\n",
       "country                   object\n",
       "freedom                  float64\n",
       "gdp_per_capita           float64\n",
       "generosity               float64\n",
       "happiness_rank             int32\n",
       "happiness_score          float64\n",
       "life_expectancy          float64\n",
       "region                    object\n",
       "social_support           float64\n",
       "year                       int64\n",
       "dtype: object"
      ]
     },
     "execution_count": 17,
     "metadata": {},
     "output_type": "execute_result"
    }
   ],
   "source": [
    "df.dtypes"
   ]
  },
  {
   "cell_type": "markdown",
   "metadata": {},
   "source": [
    "As we can expect:\n",
    "* `country` and `region are categorical features\n",
    "* `year` and `happiness rank` are integer numbers\n",
    "* `happiness score` and `factors` are float numbers (decimal)\n",
    "\n",
    "Nothing to change here."
   ]
  },
  {
   "cell_type": "markdown",
   "metadata": {},
   "source": [
    "**Range**"
   ]
  },
  {
   "cell_type": "code",
   "execution_count": 18,
   "metadata": {},
   "outputs": [
    {
     "data": {
      "text/html": [
       "<div>\n",
       "<style scoped>\n",
       "    .dataframe tbody tr th:only-of-type {\n",
       "        vertical-align: middle;\n",
       "    }\n",
       "\n",
       "    .dataframe tbody tr th {\n",
       "        vertical-align: top;\n",
       "    }\n",
       "\n",
       "    .dataframe thead th {\n",
       "        text-align: right;\n",
       "    }\n",
       "</style>\n",
       "<table border=\"1\" class=\"dataframe\">\n",
       "  <thead>\n",
       "    <tr style=\"text-align: right;\">\n",
       "      <th></th>\n",
       "      <th>corruption_perception</th>\n",
       "      <th>freedom</th>\n",
       "      <th>gdp_per_capita</th>\n",
       "      <th>generosity</th>\n",
       "      <th>happiness_rank</th>\n",
       "      <th>happiness_score</th>\n",
       "      <th>life_expectancy</th>\n",
       "      <th>social_support</th>\n",
       "      <th>year</th>\n",
       "    </tr>\n",
       "  </thead>\n",
       "  <tbody>\n",
       "    <tr>\n",
       "      <th>min</th>\n",
       "      <td>0.00000</td>\n",
       "      <td>0.000</td>\n",
       "      <td>0.000</td>\n",
       "      <td>0.000000</td>\n",
       "      <td>1</td>\n",
       "      <td>2.839</td>\n",
       "      <td>0.000</td>\n",
       "      <td>0.000</td>\n",
       "      <td>2015</td>\n",
       "    </tr>\n",
       "    <tr>\n",
       "      <th>max</th>\n",
       "      <td>0.55191</td>\n",
       "      <td>0.724</td>\n",
       "      <td>2.096</td>\n",
       "      <td>0.838075</td>\n",
       "      <td>141</td>\n",
       "      <td>7.769</td>\n",
       "      <td>1.141</td>\n",
       "      <td>1.644</td>\n",
       "      <td>2019</td>\n",
       "    </tr>\n",
       "  </tbody>\n",
       "</table>\n",
       "</div>"
      ],
      "text/plain": [
       "     corruption_perception  freedom  gdp_per_capita  generosity  \\\n",
       "min                0.00000    0.000           0.000    0.000000   \n",
       "max                0.55191    0.724           2.096    0.838075   \n",
       "\n",
       "     happiness_rank  happiness_score  life_expectancy  social_support  year  \n",
       "min               1            2.839            0.000           0.000  2015  \n",
       "max             141            7.769            1.141           1.644  2019  "
      ]
     },
     "execution_count": 18,
     "metadata": {},
     "output_type": "execute_result"
    }
   ],
   "source": [
    "# We define a function to compute the min and max of a column\n",
    "def minMax(x):\n",
    "    return pd.Series(index=['min','max'],data=[x.min(),x.max()])\n",
    "\n",
    "# We apply our function to numerica data\n",
    "df._get_numeric_data().apply(minMax)"
   ]
  },
  {
   "cell_type": "markdown",
   "metadata": {},
   "source": [
    "As we can expect:\n",
    "* `year` range is between 2015 and 2019\n",
    "* `happiness rank` values are between 1 and 141\n",
    "* `happiness score` and `factors` are >0\n",
    "\n",
    "Nothing to change here."
   ]
  },
  {
   "cell_type": "markdown",
   "metadata": {},
   "source": [
    "**Mandatory**\n",
    "\n",
    "Some features are required not to be empty. In this dataset, we expect `country` (identifier) and `happinesss core` (project focus) to be filled."
   ]
  },
  {
   "cell_type": "code",
   "execution_count": 19,
   "metadata": {},
   "outputs": [
    {
     "data": {
      "text/plain": [
       "country            0\n",
       "happiness_score    0\n",
       "dtype: int64"
      ]
     },
     "execution_count": 19,
     "metadata": {},
     "output_type": "execute_result"
    }
   ],
   "source": [
    "df[['country','happiness_score']].isna().sum()"
   ]
  },
  {
   "cell_type": "markdown",
   "metadata": {},
   "source": [
    "`Country` and `happiness score` columns don't contain missing data"
   ]
  },
  {
   "cell_type": "markdown",
   "metadata": {},
   "source": [
    "--------------\n",
    "<a name=\"1.2\"></a>\n",
    "## Accuracy\n",
    "We want to make sure the values in the data are true.\n",
    "Since we have no expertise on this dataset, all we can do is to check the `happiness rank` according to the `happiness score`"
   ]
  },
  {
   "cell_type": "code",
   "execution_count": 20,
   "metadata": {},
   "outputs": [
    {
     "data": {
      "image/png": "[encoded data removed]",
      "text/plain": [
       "<Figure size 1080x216 with 5 Axes>"
      ]
     },
     "metadata": {
      "needs_background": "light"
     },
     "output_type": "display_data"
    }
   ],
   "source": [
    "# Scatter plot\n",
    "pyplot.figure(figsize=(15,3))\n",
    "i = 151 # subplot initial position\n",
    "for year in range(2015, 2020):\n",
    "    pyplot.subplot(i)\n",
    "    df_tmp = df[df['year']==year]\n",
    "    pyplot.scatter(x=df_tmp['happiness_rank'], y=df_tmp['happiness_score'])\n",
    "    pyplot.title(str(year))\n",
    "    i+=1\n",
    "pyplot.show()\n",
    "\n"
   ]
  },
  {
   "cell_type": "markdown",
   "metadata": {},
   "source": [
    "As expected, the higher the score, the better the rank"
   ]
  },
  {
   "cell_type": "markdown",
   "metadata": {},
   "source": [
    "<a name=\"2\"></a>\n",
    "# Analytic validation\n",
    "\n",
    "As well as allowing us to work on more meaningful information, cleaning the data in an analytical way  is mandatory for an efficient use of Data Science algorithms. Thus, it is important to understand how to detect and clean anomalies in order to improve data quality.\n",
    "Inspecting the data is time-consuming and requires using many methods for exploring the underlying data for error detection, such as descriptives statistiques and data visualization.\n",
    "\n",
    "*(Only tests related to our data will be mentioned but you can find the whole list [here](https://docs.google.com/document/d/1YCiHygWCx6A3R4XvKI8LnHtNd4yFUgSbumGx9fVAxXI/edit#heading=h.wvf1xn11p9y0))*"
   ]
  },
  {
   "cell_type": "markdown",
   "metadata": {},
   "source": [
    "<a name=\"2.1\"></a>\n",
    "## Irregular data"
   ]
  },
  {
   "cell_type": "markdown",
   "metadata": {},
   "source": [
    "* Missing data"
   ]
  },
  {
   "cell_type": "code",
   "execution_count": 21,
   "metadata": {},
   "outputs": [
    {
     "data": {
      "text/html": [
       "<div>\n",
       "<style scoped>\n",
       "    .dataframe tbody tr th:only-of-type {\n",
       "        vertical-align: middle;\n",
       "    }\n",
       "\n",
       "    .dataframe tbody tr th {\n",
       "        vertical-align: top;\n",
       "    }\n",
       "\n",
       "    .dataframe thead th {\n",
       "        text-align: right;\n",
       "    }\n",
       "</style>\n",
       "<table border=\"1\" class=\"dataframe\">\n",
       "  <thead>\n",
       "    <tr style=\"text-align: right;\">\n",
       "      <th></th>\n",
       "      <th>missing_values</th>\n",
       "    </tr>\n",
       "  </thead>\n",
       "  <tbody>\n",
       "    <tr>\n",
       "      <th>corruption_perception</th>\n",
       "      <td>1</td>\n",
       "    </tr>\n",
       "  </tbody>\n",
       "</table>\n",
       "</div>"
      ],
      "text/plain": [
       "                       missing_values\n",
       "corruption_perception               1"
      ]
     },
     "metadata": {},
     "output_type": "display_data"
    },
    {
     "data": {
      "text/html": [
       "<div>\n",
       "<style scoped>\n",
       "    .dataframe tbody tr th:only-of-type {\n",
       "        vertical-align: middle;\n",
       "    }\n",
       "\n",
       "    .dataframe tbody tr th {\n",
       "        vertical-align: top;\n",
       "    }\n",
       "\n",
       "    .dataframe thead th {\n",
       "        text-align: right;\n",
       "    }\n",
       "</style>\n",
       "<table border=\"1\" class=\"dataframe\">\n",
       "  <thead>\n",
       "    <tr style=\"text-align: right;\">\n",
       "      <th></th>\n",
       "      <th>corruption_perception</th>\n",
       "      <th>country</th>\n",
       "      <th>freedom</th>\n",
       "      <th>gdp_per_capita</th>\n",
       "      <th>generosity</th>\n",
       "      <th>happiness_rank</th>\n",
       "      <th>happiness_score</th>\n",
       "      <th>life_expectancy</th>\n",
       "      <th>region</th>\n",
       "      <th>social_support</th>\n",
       "      <th>year</th>\n",
       "    </tr>\n",
       "  </thead>\n",
       "  <tbody>\n",
       "    <tr>\n",
       "      <th>19</th>\n",
       "      <td>NaN</td>\n",
       "      <td>United Arab Emirates</td>\n",
       "      <td>0.284</td>\n",
       "      <td>2.096</td>\n",
       "      <td>0.186</td>\n",
       "      <td>20</td>\n",
       "      <td>6.774</td>\n",
       "      <td>0.67</td>\n",
       "      <td>Middle East and Northern Africa</td>\n",
       "      <td>0.776</td>\n",
       "      <td>2018</td>\n",
       "    </tr>\n",
       "  </tbody>\n",
       "</table>\n",
       "</div>"
      ],
      "text/plain": [
       "    corruption_perception               country  freedom  gdp_per_capita  \\\n",
       "19                    NaN  United Arab Emirates    0.284           2.096   \n",
       "\n",
       "    generosity  happiness_rank  happiness_score  life_expectancy  \\\n",
       "19       0.186              20            6.774             0.67   \n",
       "\n",
       "                             region  social_support  year  \n",
       "19  Middle East and Northern Africa           0.776  2018  "
      ]
     },
     "metadata": {},
     "output_type": "display_data"
    }
   ],
   "source": [
    "# Let's plot the features that contains at least 1 missing values\n",
    "na_df = pd.DataFrame({'missing_values':df.isna().sum()})\n",
    "\n",
    "display(na_df[na_df['missing_values']>0])\n",
    "\n",
    "# let's plot the lines concerned by the missing value\n",
    "display(df[df['corruption_perception'].isna()])"
   ]
  },
  {
   "cell_type": "markdown",
   "metadata": {},
   "source": [
    "As we can see, there is only one missing value: `corruption perception` in 2018 for United Arab Emirates. The best way to input it is to use the value from 2017."
   ]
  },
  {
   "cell_type": "code",
   "execution_count": 22,
   "metadata": {},
   "outputs": [
    {
     "name": "stdout",
     "output_type": "stream",
     "text": [
      "Done!\n"
     ]
    }
   ],
   "source": [
    "# get corruption_perception values for the year 2017\n",
    "df_corrupt_2017 = dict_data[2017][['country', 'corruption_perception']].rename(columns={'corruption_perception':'corr_2017'})\n",
    "\n",
    "# merge\n",
    "df_temp =pd.merge(df, df_corrupt_2017, on='country')\n",
    "\n",
    "# replace value\n",
    "df_temp['corruption_perception'] = df_temp.apply(\n",
    "    lambda row: row['corr_2017'] if np.isnan(row['corruption_perception']) else row['corruption_perception'],\n",
    "    axis=1\n",
    ")\n",
    "\n",
    "df = df_temp.drop(['corr_2017'], axis=1)\n",
    "\n",
    "print(\"Done!\")"
   ]
  },
  {
   "cell_type": "markdown",
   "metadata": {},
   "source": [
    "* outliers:"
   ]
  },
  {
   "cell_type": "code",
   "execution_count": 23,
   "metadata": {
    "scrolled": true
   },
   "outputs": [
    {
     "data": {
      "image/png": "[encoded data removed]",
      "text/plain": [
       "<Figure size 1440x216 with 7 Axes>"
      ]
     },
     "metadata": {
      "needs_background": "light"
     },
     "output_type": "display_data"
    },
    {
     "data": {
      "image/png": "[encoded data removed]",
      "text/plain": [
       "<Figure size 1440x216 with 7 Axes>"
      ]
     },
     "metadata": {
      "needs_background": "light"
     },
     "output_type": "display_data"
    },
    {
     "data": {
      "image/png": "[encoded data removed]",
      "text/plain": [
       "<Figure size 432x288 with 1 Axes>"
      ]
     },
     "metadata": {
      "needs_background": "light"
     },
     "output_type": "display_data"
    }
   ],
   "source": [
    "#boxplot\n",
    "pyplot.figure(figsize=(20,3))\n",
    "\n",
    "i=171\n",
    "for col in['corruption_perception','freedom', 'gdp_per_capita', 'generosity', 'happiness_rank', 'life_expectancy', 'social_support']:\n",
    "    pyplot.subplot(i)\n",
    "    pyplot.boxplot(df[col])\n",
    "    pyplot.title(col)\n",
    "    i+=1\n",
    "pyplot.show()\n",
    "\n",
    "pyplot.figure(figsize=(20,3))\n",
    "j = 171\n",
    "for col in['corruption_perception','freedom', 'gdp_per_capita', 'generosity', 'happiness_rank', 'life_expectancy', 'social_support']:\n",
    "    pyplot.subplot(j)\n",
    "    pyplot.hist(df[col])\n",
    "    pyplot.title(col)\n",
    "    j+=1\n",
    "pyplot.show()\n",
    "\n",
    "#pyplot.figure(figsize=(20,3))\n",
    "pd.DataFrame(df['region'].value_counts()).reset_index().rename(columns={'index':'region', 'region':'values_count'}).plot.barh(x='region',y='values_count')\n",
    "pyplot.show()\n"
   ]
  },
  {
   "cell_type": "markdown",
   "metadata": {},
   "source": [
    "We can observe that `corruption perception` and `genoristy` features may have some extrem values. We'll use the IQR method to replace them."
   ]
  },
  {
   "cell_type": "code",
   "execution_count": 24,
   "metadata": {
    "scrolled": false
   },
   "outputs": [
    {
     "name": "stdout",
     "output_type": "stream",
     "text": [
      "number of corruption_perception outliers: 67\n",
      "number of generosity outliers: 15\n",
      "\n",
      "==> outliers values have been replace thanks to IQR method\n"
     ]
    }
   ],
   "source": [
    "# We define a function that returns outliers thresholds using IQR\n",
    "def outliers_th(col):\n",
    "    sorted(col)\n",
    "    Q1,Q3 = col.quantile([0.25,0.75])\n",
    "    IQR = Q3 - Q1\n",
    "    lower_range = Q1 - (1.5*IQR)\n",
    "    upper_range = Q3 + (1.5*IQR)\n",
    "    \n",
    "    return lower_range, upper_range\n",
    "\n",
    "lower_corrupt, upper_corrupt = outliers_th(df['corruption_perception'])\n",
    "lower_gen, upper_gen = outliers_th(df['generosity'])\n",
    "\n",
    "\n",
    "# number of outliers for corruption_perception\n",
    "print(\"number of corruption_perception outliers: \"+str((df['corruption_perception']>upper_corrupt).sum()))\n",
    "\n",
    "# number of outliers for generosity\n",
    "print(\"number of generosity outliers: \"+str((df['generosity']>upper_gen).sum()))\n",
    "\n",
    "# replace values\n",
    "df['corruption_perception'] = df.apply(\n",
    "    lambda row: upper_corrupt if row['corruption_perception']>upper_corrupt else row['corruption_perception'],\n",
    "    axis=1)\n",
    "\n",
    "df['generosity'] = df.apply(\n",
    "    lambda row: upper_gen if row['generosity']>upper_gen else row['generosity'],\n",
    "    axis=1)\n",
    "\n",
    "print(\"\\n==> outliers values have been replace thanks to IQR method\")"
   ]
  },
  {
   "cell_type": "code",
   "execution_count": 25,
   "metadata": {},
   "outputs": [
    {
     "data": {
      "image/png": "[encoded data removed]",
      "text/plain": [
       "<Figure size 1440x216 with 7 Axes>"
      ]
     },
     "metadata": {
      "needs_background": "light"
     },
     "output_type": "display_data"
    }
   ],
   "source": [
    "#boxplot\n",
    "pyplot.figure(figsize=(20,3))\n",
    "\n",
    "i=171\n",
    "for col in['corruption_perception','freedom', 'gdp_per_capita', 'generosity', 'happiness_rank', 'life_expectancy', 'social_support']:\n",
    "    pyplot.subplot(i)\n",
    "    pyplot.boxplot(df[col])\n",
    "    pyplot.title(col)\n",
    "    i+=1\n",
    "pyplot.show()"
   ]
  },
  {
   "cell_type": "markdown",
   "metadata": {},
   "source": [
    "----------\n",
    "<a name=\"2.2\"></a>\n",
    "## Unnecessary Data"
   ]
  },
  {
   "cell_type": "markdown",
   "metadata": {},
   "source": [
    "* Uninformative / repetitive: features with many rows having the same values"
   ]
  },
  {
   "cell_type": "code",
   "execution_count": 26,
   "metadata": {},
   "outputs": [
    {
     "data": {
      "image/png": "[encoded data removed]",
      "text/plain": [
       "<Figure size 1440x216 with 7 Axes>"
      ]
     },
     "metadata": {
      "needs_background": "light"
     },
     "output_type": "display_data"
    },
    {
     "name": "stdout",
     "output_type": "stream",
     "text": [
      "`\n",
      " Regions:\n"
     ]
    },
    {
     "data": {
      "text/plain": [
       "Sub-Saharan Africa                 155\n",
       "Central and Eastern Europe         140\n",
       "Latin America and Caribbean        100\n",
       "Western Europe                     100\n",
       "Middle East and Northern Africa     95\n",
       "Southeastern Asia                   40\n",
       "Southern Asia                       35\n",
       "Eastern Asia                        20\n",
       "Australia and New Zealand           10\n",
       "North America                       10\n",
       "Name: region, dtype: int64"
      ]
     },
     "metadata": {},
     "output_type": "display_data"
    }
   ],
   "source": [
    "pyplot.figure(figsize=(20,3))\n",
    "j = 191\n",
    "for col in [col for col in df.columns.tolist() if col not in ['country','happiness_rank','year','region']]:\n",
    "    pyplot.subplot(j)\n",
    "    pyplot.hist(df[col])\n",
    "    pyplot.title(col)\n",
    "    j+=1\n",
    "pyplot.show()\n",
    "\n",
    "print(\"`\\n Regions:\")\n",
    "display(df[\"region\"].value_counts())"
   ]
  },
  {
   "cell_type": "markdown",
   "metadata": {},
   "source": [
    "We can see that all of the features are well distributed"
   ]
  },
  {
   "cell_type": "markdown",
   "metadata": {},
   "source": [
    "----------\n",
    "<a name=\"2.2\"></a>\n",
    "## Inconsistent Data"
   ]
  },
  {
   "cell_type": "markdown",
   "metadata": {},
   "source": [
    "* Data Normalization\n",
    "\n",
    "In order to have a better understanding of the further analysis, and because many machine learning models work better with similar scaled variables, we rescale the different scores (`happiness score` and `factors``) to range 0-100"
   ]
  },
  {
   "cell_type": "code",
   "execution_count": 27,
   "metadata": {},
   "outputs": [],
   "source": [
    "# Rescale\n",
    "df_norm = df.copy()\n",
    "for col in ['corruption_perception', 'freedom', 'gdp_per_capita', \n",
    "            'generosity', 'happiness_score', 'life_expectancy', 'social_support']:\n",
    "        \n",
    "        df_norm[col] = (df_norm[col]-df_norm[col].min())/(df_norm[col].max()-df_norm[col].min())*100"
   ]
  },
  {
   "cell_type": "markdown",
   "metadata": {},
   "source": [
    "------------\n",
    "------------\n",
    "<a name=\"3\"></a>\n",
    "# 3. Final report"
   ]
  },
  {
   "cell_type": "markdown",
   "metadata": {},
   "source": [
    "## The changes we made\n",
    "\n",
    "In this notebook, we cleaned our raw data files to ease and improve the quality of our further analysis.\n",
    "\n",
    "**Our first task was to gather the 5 data files (one for each year of study) into one single dataset. To do so, we had to make some modifications to**\n",
    "* We renamed features that contained same informations but had different names.\n",
    "* We removed features which were not present for all the years of study: Dystopia residual, standard error and confidence interval \n",
    "* We made sure to have the same countries for all the years of study because we aim to look at happiness evolution through time. So we removed about 10% of the countries in each file and kept 141 countries for our final dataset. (This step can be improved by finding countries with different orthographes in the files)\n",
    "* We finally merged the files into a single dataset that we will use for deeper analysis\n",
    "\n",
    "=> The dataset set now contains the following features: `country`, `happiness_score`, `happiness_rank`, `gdp_per_capita`, `life_expectancy`, `social_support`, `freedom`, `corruption_perception`, `generosity`, `region`, `year`\n",
    "\n",
    "**After this step, we corrected the data according to business Expertise. Since we have no real expertise, we tried to figure out our own rules. We looked for different kinds of invalid data:**\n",
    "* Data types\n",
    "* Data ranges\n",
    "* Mandatody values\n",
    "* Accuracy of the value\n",
    "Fortunately, the data respected all our rules and we havn't had to make modifications.\n",
    "\n",
    "**Finally, our last task was to verify the data in an analytical way by looking for anomalies in our features:**\n",
    "* Missing values\n",
    "* Outliers\n",
    "* repetitive data\n",
    "* Data normalization\n",
    "Only a one missing values has been found, and replaced with the mean of the other values for the same feature.\n",
    "\n",
    "## The final dataset"
   ]
  },
  {
   "cell_type": "code",
   "execution_count": 28,
   "metadata": {},
   "outputs": [
    {
     "name": "stdout",
     "output_type": "stream",
     "text": [
      "Our final datasets contains 705 observations and 11 columns\n"
     ]
    },
    {
     "data": {
      "text/html": [
       "<div>\n",
       "<style scoped>\n",
       "    .dataframe tbody tr th:only-of-type {\n",
       "        vertical-align: middle;\n",
       "    }\n",
       "\n",
       "    .dataframe tbody tr th {\n",
       "        vertical-align: top;\n",
       "    }\n",
       "\n",
       "    .dataframe thead th {\n",
       "        text-align: right;\n",
       "    }\n",
       "</style>\n",
       "<table border=\"1\" class=\"dataframe\">\n",
       "  <thead>\n",
       "    <tr style=\"text-align: right;\">\n",
       "      <th></th>\n",
       "      <th>Features</th>\n",
       "    </tr>\n",
       "  </thead>\n",
       "  <tbody>\n",
       "    <tr>\n",
       "      <th>0</th>\n",
       "      <td>corruption_perception</td>\n",
       "    </tr>\n",
       "    <tr>\n",
       "      <th>1</th>\n",
       "      <td>country</td>\n",
       "    </tr>\n",
       "    <tr>\n",
       "      <th>2</th>\n",
       "      <td>freedom</td>\n",
       "    </tr>\n",
       "    <tr>\n",
       "      <th>3</th>\n",
       "      <td>gdp_per_capita</td>\n",
       "    </tr>\n",
       "    <tr>\n",
       "      <th>4</th>\n",
       "      <td>generosity</td>\n",
       "    </tr>\n",
       "    <tr>\n",
       "      <th>5</th>\n",
       "      <td>happiness_rank</td>\n",
       "    </tr>\n",
       "    <tr>\n",
       "      <th>6</th>\n",
       "      <td>happiness_score</td>\n",
       "    </tr>\n",
       "    <tr>\n",
       "      <th>7</th>\n",
       "      <td>life_expectancy</td>\n",
       "    </tr>\n",
       "    <tr>\n",
       "      <th>8</th>\n",
       "      <td>region</td>\n",
       "    </tr>\n",
       "    <tr>\n",
       "      <th>9</th>\n",
       "      <td>social_support</td>\n",
       "    </tr>\n",
       "    <tr>\n",
       "      <th>10</th>\n",
       "      <td>year</td>\n",
       "    </tr>\n",
       "  </tbody>\n",
       "</table>\n",
       "</div>"
      ],
      "text/plain": [
       "                 Features\n",
       "0   corruption_perception\n",
       "1                 country\n",
       "2                 freedom\n",
       "3          gdp_per_capita\n",
       "4              generosity\n",
       "5          happiness_rank\n",
       "6         happiness_score\n",
       "7         life_expectancy\n",
       "8                  region\n",
       "9          social_support\n",
       "10                   year"
      ]
     },
     "metadata": {},
     "output_type": "display_data"
    }
   ],
   "source": [
    "print(\"Our final datasets contains \"+str(df.shape[0])+' observations and '+str(df.shape[1])+' columns')\n",
    "display(pd.DataFrame({\"Features\":df.columns.tolist()}))\n",
    "\n",
    "# export\n",
    "df.to_csv('data/data_clean.csv', index=False)\n",
    "df_norm.to_csv('data/data_clean_norm.csv', index=False)"
   ]
  },
  {
   "cell_type": "code",
   "execution_count": 29,
   "metadata": {},
   "outputs": [
    {
     "name": "stdout",
     "output_type": "stream",
     "text": [
      "(705, 11)\n"
     ]
    },
    {
     "data": {
      "text/html": [
       "<div>\n",
       "<style scoped>\n",
       "    .dataframe tbody tr th:only-of-type {\n",
       "        vertical-align: middle;\n",
       "    }\n",
       "\n",
       "    .dataframe tbody tr th {\n",
       "        vertical-align: top;\n",
       "    }\n",
       "\n",
       "    .dataframe thead th {\n",
       "        text-align: right;\n",
       "    }\n",
       "</style>\n",
       "<table border=\"1\" class=\"dataframe\">\n",
       "  <thead>\n",
       "    <tr style=\"text-align: right;\">\n",
       "      <th></th>\n",
       "      <th>corruption_perception</th>\n",
       "      <th>country</th>\n",
       "      <th>freedom</th>\n",
       "      <th>gdp_per_capita</th>\n",
       "      <th>generosity</th>\n",
       "      <th>happiness_rank</th>\n",
       "      <th>happiness_score</th>\n",
       "      <th>life_expectancy</th>\n",
       "      <th>region</th>\n",
       "      <th>social_support</th>\n",
       "      <th>year</th>\n",
       "    </tr>\n",
       "  </thead>\n",
       "  <tbody>\n",
       "    <tr>\n",
       "      <th>124</th>\n",
       "      <td>0.265000</td>\n",
       "      <td>Germany</td>\n",
       "      <td>0.495000</td>\n",
       "      <td>1.373000</td>\n",
       "      <td>0.261000</td>\n",
       "      <td>17</td>\n",
       "      <td>6.985</td>\n",
       "      <td>0.987000</td>\n",
       "      <td>Western Europe</td>\n",
       "      <td>1.454000</td>\n",
       "      <td>2019</td>\n",
       "    </tr>\n",
       "    <tr>\n",
       "      <th>492</th>\n",
       "      <td>0.023029</td>\n",
       "      <td>Ukraine</td>\n",
       "      <td>0.122975</td>\n",
       "      <td>0.894652</td>\n",
       "      <td>0.270061</td>\n",
       "      <td>122</td>\n",
       "      <td>4.096</td>\n",
       "      <td>0.575904</td>\n",
       "      <td>Central and Eastern Europe</td>\n",
       "      <td>1.394538</td>\n",
       "      <td>2017</td>\n",
       "    </tr>\n",
       "    <tr>\n",
       "      <th>189</th>\n",
       "      <td>0.074000</td>\n",
       "      <td>El Salvador</td>\n",
       "      <td>0.430000</td>\n",
       "      <td>0.794000</td>\n",
       "      <td>0.093000</td>\n",
       "      <td>34</td>\n",
       "      <td>6.253</td>\n",
       "      <td>0.789000</td>\n",
       "      <td>Latin America and Caribbean</td>\n",
       "      <td>1.242000</td>\n",
       "      <td>2019</td>\n",
       "    </tr>\n",
       "    <tr>\n",
       "      <th>3</th>\n",
       "      <td>0.304316</td>\n",
       "      <td>Switzerland</td>\n",
       "      <td>0.660000</td>\n",
       "      <td>1.420000</td>\n",
       "      <td>0.256000</td>\n",
       "      <td>5</td>\n",
       "      <td>7.487</td>\n",
       "      <td>0.927000</td>\n",
       "      <td>Western Europe</td>\n",
       "      <td>1.549000</td>\n",
       "      <td>2018</td>\n",
       "    </tr>\n",
       "    <tr>\n",
       "      <th>333</th>\n",
       "      <td>0.174000</td>\n",
       "      <td>Estonia</td>\n",
       "      <td>0.553000</td>\n",
       "      <td>1.200000</td>\n",
       "      <td>0.086000</td>\n",
       "      <td>59</td>\n",
       "      <td>5.739</td>\n",
       "      <td>0.737000</td>\n",
       "      <td>Central and Eastern Europe</td>\n",
       "      <td>1.532000</td>\n",
       "      <td>2018</td>\n",
       "    </tr>\n",
       "    <tr>\n",
       "      <th>577</th>\n",
       "      <td>0.251667</td>\n",
       "      <td>Georgia</td>\n",
       "      <td>0.309410</td>\n",
       "      <td>0.950613</td>\n",
       "      <td>0.054009</td>\n",
       "      <td>116</td>\n",
       "      <td>4.286</td>\n",
       "      <td>0.649547</td>\n",
       "      <td>Central and Eastern Europe</td>\n",
       "      <td>0.570615</td>\n",
       "      <td>2017</td>\n",
       "    </tr>\n",
       "    <tr>\n",
       "      <th>113</th>\n",
       "      <td>0.304316</td>\n",
       "      <td>Singapore</td>\n",
       "      <td>0.631000</td>\n",
       "      <td>1.529000</td>\n",
       "      <td>0.261000</td>\n",
       "      <td>33</td>\n",
       "      <td>6.343</td>\n",
       "      <td>1.008000</td>\n",
       "      <td>Southeastern Asia</td>\n",
       "      <td>1.451000</td>\n",
       "      <td>2018</td>\n",
       "    </tr>\n",
       "    <tr>\n",
       "      <th>139</th>\n",
       "      <td>0.183000</td>\n",
       "      <td>France</td>\n",
       "      <td>0.436000</td>\n",
       "      <td>1.324000</td>\n",
       "      <td>0.111000</td>\n",
       "      <td>24</td>\n",
       "      <td>6.592</td>\n",
       "      <td>1.045000</td>\n",
       "      <td>Western Europe</td>\n",
       "      <td>1.472000</td>\n",
       "      <td>2019</td>\n",
       "    </tr>\n",
       "    <tr>\n",
       "      <th>672</th>\n",
       "      <td>0.120328</td>\n",
       "      <td>Burkina Faso</td>\n",
       "      <td>0.324368</td>\n",
       "      <td>0.350228</td>\n",
       "      <td>0.250865</td>\n",
       "      <td>124</td>\n",
       "      <td>4.032</td>\n",
       "      <td>0.215844</td>\n",
       "      <td>Sub-Saharan Africa</td>\n",
       "      <td>1.043280</td>\n",
       "      <td>2017</td>\n",
       "    </tr>\n",
       "    <tr>\n",
       "      <th>567</th>\n",
       "      <td>0.098583</td>\n",
       "      <td>Botswana</td>\n",
       "      <td>0.505196</td>\n",
       "      <td>1.122094</td>\n",
       "      <td>0.099348</td>\n",
       "      <td>130</td>\n",
       "      <td>3.766</td>\n",
       "      <td>0.341756</td>\n",
       "      <td>Sub-Saharan Africa</td>\n",
       "      <td>1.221555</td>\n",
       "      <td>2017</td>\n",
       "    </tr>\n",
       "  </tbody>\n",
       "</table>\n",
       "</div>"
      ],
      "text/plain": [
       "     corruption_perception       country   freedom  gdp_per_capita  \\\n",
       "124               0.265000       Germany  0.495000        1.373000   \n",
       "492               0.023029       Ukraine  0.122975        0.894652   \n",
       "189               0.074000   El Salvador  0.430000        0.794000   \n",
       "3                 0.304316   Switzerland  0.660000        1.420000   \n",
       "333               0.174000       Estonia  0.553000        1.200000   \n",
       "577               0.251667       Georgia  0.309410        0.950613   \n",
       "113               0.304316     Singapore  0.631000        1.529000   \n",
       "139               0.183000        France  0.436000        1.324000   \n",
       "672               0.120328  Burkina Faso  0.324368        0.350228   \n",
       "567               0.098583      Botswana  0.505196        1.122094   \n",
       "\n",
       "     generosity  happiness_rank  happiness_score  life_expectancy  \\\n",
       "124    0.261000              17            6.985         0.987000   \n",
       "492    0.270061             122            4.096         0.575904   \n",
       "189    0.093000              34            6.253         0.789000   \n",
       "3      0.256000               5            7.487         0.927000   \n",
       "333    0.086000              59            5.739         0.737000   \n",
       "577    0.054009             116            4.286         0.649547   \n",
       "113    0.261000              33            6.343         1.008000   \n",
       "139    0.111000              24            6.592         1.045000   \n",
       "672    0.250865             124            4.032         0.215844   \n",
       "567    0.099348             130            3.766         0.341756   \n",
       "\n",
       "                          region  social_support  year  \n",
       "124               Western Europe        1.454000  2019  \n",
       "492   Central and Eastern Europe        1.394538  2017  \n",
       "189  Latin America and Caribbean        1.242000  2019  \n",
       "3                 Western Europe        1.549000  2018  \n",
       "333   Central and Eastern Europe        1.532000  2018  \n",
       "577   Central and Eastern Europe        0.570615  2017  \n",
       "113            Southeastern Asia        1.451000  2018  \n",
       "139               Western Europe        1.472000  2019  \n",
       "672           Sub-Saharan Africa        1.043280  2017  \n",
       "567           Sub-Saharan Africa        1.221555  2017  "
      ]
     },
     "metadata": {},
     "output_type": "display_data"
    }
   ],
   "source": [
    "df_test = pd.read_csv('data/data_clean.csv')\n",
    "print(df_test.shape)\n",
    "display(df_test.sample(10))"
   ]
  },
  {
   "cell_type": "code",
   "execution_count": null,
   "metadata": {},
   "outputs": [],
   "source": []
  }
 ],
 "metadata": {
  "kernelspec": {
   "display_name": "Python 3",
   "language": "python",
   "name": "python3"
  },
  "language_info": {
   "codemirror_mode": {
    "name": "ipython",
    "version": 3
   },
   "file_extension": ".py",
   "mimetype": "text/x-python",
   "name": "python",
   "nbconvert_exporter": "python",
   "pygments_lexer": "ipython3",
   "version": "3.8.5"
  }
 },
 "nbformat": 4,
 "nbformat_minor": 4
}
