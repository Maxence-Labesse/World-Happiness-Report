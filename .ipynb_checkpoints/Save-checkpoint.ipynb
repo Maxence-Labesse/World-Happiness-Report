{
 "cells": [
  {
   "cell_type": "markdown",
   "metadata": {},
   "source": [
    "# map countries"
   ]
  },
  {
   "cell_type": "code",
   "execution_count": null,
   "metadata": {},
   "outputs": [],
   "source": [
    "# import world country boundaries\n",
    "url = 'https://s3-api.us-geo.objectstorage.softlayer.net/cf-courses-data/CognitiveClass/DV0101EN/labs/Data_Files/world_countries.json'\n",
    "response = requests.get(url)\n",
    "data = response.json()\n",
    "\n",
    "l_countries_json = []\n",
    "for l in data['features']:\n",
    "    l_countries_json.append(l['properties']['name'])"
   ]
  },
  {
   "cell_type": "code",
   "execution_count": null,
   "metadata": {},
   "outputs": [],
   "source": [
    "df['country'].replace({'Serbia': 'Republic of Serbia',\n",
    "                       'Tanzania': 'United Republic of Tanzania',\n",
    "                       'Congo (Brazzaville)': 'Republic of the Congo',\n",
    "                       'Congo (Kinshasa)': 'Democratic Republic of the Congo',\n",
    "                       'United States': 'United States of America'\n",
    "                      }, inplace=True)\n",
    "\n",
    "l_df_countries = set(df['country'].tolist())\n",
    "\n",
    "l_df_and_json = [c for c in l_df_countries if c in l_countries_json]\n",
    "l_df_not_json = [c for c in l_df_countries if c not in l_countries_json]\n",
    "l_json_not_df = [c for c in l_countries_json if c not in l_df_countries]\n",
    "\n",
    "print(\"in both files:\",len(l_df_and_json))\n",
    "print(\"just in df\", len(l_df_not_json))\n",
    "print(\"just in json\", len(l_json_not_df))\n"
   ]
  }
 ],
 "metadata": {
  "kernelspec": {
   "display_name": "Python 3",
   "language": "python",
   "name": "python3"
  },
  "language_info": {
   "codemirror_mode": {
    "name": "ipython",
    "version": 3
   },
   "file_extension": ".py",
   "mimetype": "text/x-python",
   "name": "python",
   "nbconvert_exporter": "python",
   "pygments_lexer": "ipython3",
   "version": "3.7.0"
  }
 },
 "nbformat": 4,
 "nbformat_minor": 4
}
