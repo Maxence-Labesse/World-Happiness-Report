{
 "cells": [
  {
   "cell_type": "markdown",
   "metadata": {},
   "source": [
    "# Table of Contents\n",
    "\n",
    "<div class=\"alert alert-block alert-info\" style=\"margin-top: 20px\">\n",
    "\n",
    "[Context](#Co)<br>\n",
    "[Import packages and data](#0)<br>\n",
    "    \n",
    "1. [**Can we predict a country happiness if we know the gdp per capita, life expectancy and other factors values?**](#Fac)<br>\n",
    "    [Model 1: using all factors as features](#MF1)<br>\n",
    "    [Model 2: variable selection (correlation matrix, VIF and RSE)](#MF2)<br>\n",
    "    [Conclusion](#CF)<br>\n",
    "    \n",
    "    \n",
    "2. [**Can we predict a country happiness only with his historical ?**](#Hi)<br>\n",
    "    [Model 1: using all historical features (from year-1 to year-3)](#MH1)<br>\n",
    "    [Model 2: using happiness score historical (from year-1 to year-3](#MH2)<br>\n",
    "    [Conclusion](#CH)<br>\n",
    "\n",
    "\n",
    "</div>\n",
    "<hr>"
   ]
  },
  {
   "cell_type": "markdown",
   "metadata": {},
   "source": [
    "<a name=\"Co\"></a>\n",
    "# Context\n",
    "\n",
    "The **World Happiness Report** is a landmark survey of the state of global happiness from 2015 to 2019 according to 6 main factors:\n",
    "* economic production, \n",
    "* social support, \n",
    "* life expectancy, freedom, \n",
    "* absence of corruption, \n",
    "* and generosity\n",
    "\n",
    "### Purposes of the project\n",
    "<ins> Data analysis: </ins>\n",
    "1. Give a clear picture of happiness around the world in 2019\n",
    "2. Analyse trends in happiness from 2015 to 2019\n",
    "\n",
    "<ins> Forecasting with Machine Learning</ins>(\\*)\n",
    "1. Can we predict a country happiness if we know the gdp per capita, life expectancy and other factors values?\n",
    "2. Can we predict a country happiness thanks to its history (happiness+factors)?\n",
    "\n",
    "To answer these questions, we'll compare different regression models.\n",
    "\n",
    "(\\*) *Although data don't contain related information, the global pandemic may have a tremendous impact on the results*\n",
    "\n",
    "You can find the whole presentation and information about the data in the **Project Presentation** notebook\n",
    "\n",
    "### Workflow\n",
    "* Cleaning\n",
    "* EDA\n",
    "* Data Visualization\n",
    "* Features Engineering\n",
    "* **Machine Learning**\n",
    "\n",
    "--------\n",
    "Machine Learning is the expertise of the different algorithms and their evaluations. In this notebook, we'll forecast happiness using Machine Learning algorithms to answer the following questions:\n",
    "1. Can we predict a country happiness if we know the gdp per capita, life expectancy and other factors values?\n",
    "2. Can we predict a country happiness thanks to its history (happiness+factors)?"
   ]
  },
  {
   "cell_type": "markdown",
   "metadata": {},
   "source": [
    "------------\n",
    "------------\n",
    "<a name=\"0\"></a>\n",
    "# Import packages and data"
   ]
  },
  {
   "cell_type": "code",
   "execution_count": 1,
   "metadata": {},
   "outputs": [],
   "source": [
    "import pandas as pd\n",
    "import numpy as np\n",
    "import random\n",
    "\n",
    "import seaborn as sns\n",
    "import matplotlib.pyplot as plt\n",
    "\n",
    "from sklearn.linear_model import LinearRegression\n",
    "from sklearn.metrics import mean_squared_error,r2_score\n",
    "from statsmodels.stats.outliers_influence import variance_inflation_factor\n",
    "from sklearn.preprocessing import PolynomialFeatures\n",
    "from sklearn.ensemble import RandomForestRegressor\n",
    "\n",
    "from utils.Modelisation_utils import train_test_metrics, compare_algo"
   ]
  },
  {
   "cell_type": "markdown",
   "metadata": {},
   "source": [
    "Import data (see Features Engineering notebook)"
   ]
  },
  {
   "cell_type": "code",
   "execution_count": 2,
   "metadata": {},
   "outputs": [],
   "source": [
    "# import factors datasets\n",
    "fact_train_set = pd.read_csv('data/fact_train_set.csv', index_col=\"country\")\n",
    "fact_test_set = pd.read_csv('data/fact_test_set.csv', index_col=\"country\")\n",
    "\n",
    "# import historic datasets\n",
    "hist_train_set = pd.read_csv('data/hist_train_set.csv', index_col=\"country\")\n",
    "hist_test_set = pd.read_csv('data/hist_test_set.csv', index_col=\"country\")\n",
    "\n",
    "# drop region and year\n",
    "hist_train_set.drop(columns=['year','region'],inplace=True)\n",
    "hist_test_set.drop(columns=['year','region'],inplace=True)\n",
    "\n",
    "# list of factors\n",
    "l_factors = ['life_expectancy', 'gdp_per_capita', 'social_support', \n",
    "             'freedom','generosity', 'corruption_perception'] \n",
    "\n",
    "l_happiness_histo = ['happiness_scoreP1', 'happiness_scoreP2', 'happiness_scoreP3']\n",
    "\n",
    "l_regions = ['Australia and New Zealand', 'Central and Eastern Europe', 'Eastern Asia', 'Latin America and Caribbean',\n",
    "            'Middle East and Northern Africa', 'North America', 'Southeastern Asia',\n",
    "            'Southern Asia', 'Sub-Saharan Africa', 'Western Europe']"
   ]
  },
  {
   "cell_type": "markdown",
   "metadata": {},
   "source": [
    "-------\n",
    "# About Modelisation\n",
    "\n",
    "\n",
    "### Algorithms\n",
    "For convenience and readibility, we created a function `compare algo` that trains, tests and evaluates several regression algorithms to finally compare them according to a selected metrics. \n",
    "\n",
    "Algorithms included in the function are:\n",
    "* A trivial model that will serve as benchmark: In our case we'll use euristic happiness_score(N) = happiness_score(N-1)\n",
    "* Linear regression\n",
    "* Polynomial regression (²)\n",
    "* Random forest (40 models built with grid random parameters - best model is selected according to MSE on test set)"
   ]
  },
  {
   "cell_type": "markdown",
   "metadata": {},
   "source": [
    "### Metrics:\n",
    "* **Mean Square Error (MSE)**: measures the average of the squares of the errors—that is, the average squared difference between the estimated values and the actual value.\n",
    "\n",
    "<img src=\"data/MSE.png\"/>"
   ]
  },
  {
   "cell_type": "markdown",
   "metadata": {},
   "source": [
    "------------\n",
    "------------\n",
    "<a name=\"Fac\"></a>\n",
    "# 1. Can we predict a country happiness if we know the factor values for the same year ?\n",
    "\n",
    "Thanks to EDA (see notebook), we highlighted some relationships and patterns in data that will help us to estimate the effienciy of the different algorithms:\n",
    "1. We can expect linear regression to be very effective because we saw that relationship between `happiness` and `gdp_per_capita`, `life_expectancy` and `social_support` was very likely to be linear\n",
    "2. We highlighlited some threshold patterns (`corruption_perception`, `freedom`) that give us good reasons to assume that random forest can be effective aswell.\n",
    "3. Since we didn't see any polynomial relationship between `happiness` and factors, we don't expect polynomial regression to give better results than linear regression."
   ]
  },
  {
   "cell_type": "markdown",
   "metadata": {},
   "source": [
    "### Train Test sets\n",
    "Data from 2016 to 2018 will be used to train our models, and 2019 to test it"
   ]
  },
  {
   "cell_type": "code",
   "execution_count": 3,
   "metadata": {
    "scrolled": true
   },
   "outputs": [],
   "source": [
    "benchmark_train= fact_train_set[\"happiness_scoreP1\"]\n",
    "fact_train_set.drop(columns=[\"year\",\"happiness_scoreP1\"],inplace=True)\n",
    "\n",
    "benchmark_test= fact_test_set[\"happiness_scoreP1\"]\n",
    "fact_test_set.drop(columns=[\"year\",\"happiness_scoreP1\"],inplace=True)"
   ]
  },
  {
   "cell_type": "markdown",
   "metadata": {},
   "source": [
    "<a name=\"MF1\"></a>\n",
    "## Model 1: using all factors as features"
   ]
  },
  {
   "cell_type": "code",
   "execution_count": 4,
   "metadata": {},
   "outputs": [],
   "source": [
    "l_features = l_factors + l_regions"
   ]
  },
  {
   "cell_type": "code",
   "execution_count": 5,
   "metadata": {
    "scrolled": false
   },
   "outputs": [
    {
     "name": "stdout",
     "output_type": "stream",
     "text": [
      "RF params: \n",
      "n_estimators: 363 / max_features: auto / max_depth: 4 / min_samples_split 15\n"
     ]
    },
    {
     "data": {
      "text/html": [
       "<div>\n",
       "<style scoped>\n",
       "    .dataframe tbody tr th:only-of-type {\n",
       "        vertical-align: middle;\n",
       "    }\n",
       "\n",
       "    .dataframe tbody tr th {\n",
       "        vertical-align: top;\n",
       "    }\n",
       "\n",
       "    .dataframe thead th {\n",
       "        text-align: right;\n",
       "    }\n",
       "</style>\n",
       "<table border=\"1\" class=\"dataframe\">\n",
       "  <thead>\n",
       "    <tr style=\"text-align: right;\">\n",
       "      <th></th>\n",
       "      <th>Test MSE</th>\n",
       "      <th>Train MSE</th>\n",
       "    </tr>\n",
       "  </thead>\n",
       "  <tbody>\n",
       "    <tr>\n",
       "      <th>Benchmark</th>\n",
       "      <td>17.4926</td>\n",
       "      <td>None</td>\n",
       "    </tr>\n",
       "    <tr>\n",
       "      <th>Linear Regression</th>\n",
       "      <td>96.005</td>\n",
       "      <td>80.2926</td>\n",
       "    </tr>\n",
       "    <tr>\n",
       "      <th>Polynomial (square) Regression</th>\n",
       "      <td>931.77</td>\n",
       "      <td>27.5244</td>\n",
       "    </tr>\n",
       "    <tr>\n",
       "      <th>Random Forest</th>\n",
       "      <td>99.3221</td>\n",
       "      <td>54.6784</td>\n",
       "    </tr>\n",
       "  </tbody>\n",
       "</table>\n",
       "</div>"
      ],
      "text/plain": [
       "                               Test MSE Train MSE\n",
       "Benchmark                       17.4926      None\n",
       "Linear Regression                96.005   80.2926\n",
       "Polynomial (square) Regression   931.77   27.5244\n",
       "Random Forest                   99.3221   54.6784"
      ]
     },
     "metadata": {},
     "output_type": "display_data"
    }
   ],
   "source": [
    "compare_algo(fact_train_set, fact_test_set, \"happiness_score\", l_features, benchmark_test)"
   ]
  },
  {
   "cell_type": "markdown",
   "metadata": {},
   "source": [
    "Including all features for prediction seems to lead to overfitting, especially for polynomial regression and random forest.\n",
    "Benchmark heuristic is way more efficient now."
   ]
  },
  {
   "cell_type": "markdown",
   "metadata": {},
   "source": [
    "-------------\n",
    "<a name=\"MF2\"></a>\n",
    "## Model 2: variable selection (correlation matrix, VIF and RSE)"
   ]
  },
  {
   "cell_type": "markdown",
   "metadata": {},
   "source": [
    "### Correlation matrix"
   ]
  },
  {
   "cell_type": "markdown",
   "metadata": {},
   "source": [
    "A correlation matrix is a table showing correlation coefficients between sets of variables. Each random variable (Xi) in the table is correlated with each of the other values in the table (Xj). This allows you to see which pairs have the highest correlation."
   ]
  },
  {
   "cell_type": "code",
   "execution_count": 6,
   "metadata": {},
   "outputs": [
    {
     "data": {
      "text/plain": [
       "<matplotlib.axes._subplots.AxesSubplot at 0x28e3bfe0518>"
      ]
     },
     "execution_count": 6,
     "metadata": {},
     "output_type": "execute_result"
    },
    {
     "data": {
      "image/png": "[encoded data removed]",
      "text/plain": [
       "<Figure size 432x288 with 2 Axes>"
      ]
     },
     "metadata": {
      "needs_background": "light"
     },
     "output_type": "display_data"
    }
   ],
   "source": [
    "corr_matrix=fact_train_set[[\"happiness_score\"]+l_factors+[\"Western Europe\", \"Sub-Saharan Africa\"]].corr()\n",
    "\n",
    "sns.heatmap(corr_matrix, annot = True)"
   ]
  },
  {
   "cell_type": "markdown",
   "metadata": {},
   "source": [
    "As we can see, `happiness` has strong correlation with `gdp per capita`, `life expectancy` and `social support`"
   ]
  },
  {
   "cell_type": "code",
   "execution_count": 7,
   "metadata": {},
   "outputs": [],
   "source": [
    "l_features_corr = ['gdp_per_capita', 'life_expectancy', 'social_support']"
   ]
  },
  {
   "cell_type": "code",
   "execution_count": 8,
   "metadata": {
    "scrolled": true
   },
   "outputs": [
    {
     "name": "stdout",
     "output_type": "stream",
     "text": [
      "RF params: \n",
      "n_estimators: 104 / max_features: log2 / max_depth: 3 / min_samples_split 5\n"
     ]
    },
    {
     "data": {
      "text/html": [
       "<div>\n",
       "<style scoped>\n",
       "    .dataframe tbody tr th:only-of-type {\n",
       "        vertical-align: middle;\n",
       "    }\n",
       "\n",
       "    .dataframe tbody tr th {\n",
       "        vertical-align: top;\n",
       "    }\n",
       "\n",
       "    .dataframe thead th {\n",
       "        text-align: right;\n",
       "    }\n",
       "</style>\n",
       "<table border=\"1\" class=\"dataframe\">\n",
       "  <thead>\n",
       "    <tr style=\"text-align: right;\">\n",
       "      <th></th>\n",
       "      <th>Test MSE</th>\n",
       "      <th>Train MSE</th>\n",
       "    </tr>\n",
       "  </thead>\n",
       "  <tbody>\n",
       "    <tr>\n",
       "      <th>Benchmark</th>\n",
       "      <td>17.4926</td>\n",
       "      <td>None</td>\n",
       "    </tr>\n",
       "    <tr>\n",
       "      <th>Linear Regression</th>\n",
       "      <td>143.676</td>\n",
       "      <td>124.109</td>\n",
       "    </tr>\n",
       "    <tr>\n",
       "      <th>Polynomial (square) Regression</th>\n",
       "      <td>140.502</td>\n",
       "      <td>101.769</td>\n",
       "    </tr>\n",
       "    <tr>\n",
       "      <th>Random Forest</th>\n",
       "      <td>115.987</td>\n",
       "      <td>65.3681</td>\n",
       "    </tr>\n",
       "  </tbody>\n",
       "</table>\n",
       "</div>"
      ],
      "text/plain": [
       "                               Test MSE Train MSE\n",
       "Benchmark                       17.4926      None\n",
       "Linear Regression               143.676   124.109\n",
       "Polynomial (square) Regression  140.502   101.769\n",
       "Random Forest                   115.987   65.3681"
      ]
     },
     "metadata": {},
     "output_type": "display_data"
    }
   ],
   "source": [
    "compare_algo(fact_train_set, fact_test_set, \"happiness_score\", l_features_corr, benchmark_test)"
   ]
  },
  {
   "cell_type": "markdown",
   "metadata": {},
   "source": [
    "While we managed to decrease overfitting because we used a simpler model, accuracy is slighly lower than the model including all features"
   ]
  },
  {
   "cell_type": "markdown",
   "metadata": {},
   "source": [
    "### VIF"
   ]
  },
  {
   "cell_type": "markdown",
   "metadata": {},
   "source": [
    "In statistics, the variance inflation factor (VIF) is the quotient of the variance in a model with multiple terms by the variance of a model with one term alone. It quantifies the severity of multicollinearity in an ordinary least squares regression analysis. "
   ]
  },
  {
   "cell_type": "markdown",
   "metadata": {},
   "source": [
    "We compute VIF Factor for predictors and remove the one with highest VIF factor (high colinearity) until only predictors with <5 VIF factors are remaining"
   ]
  },
  {
   "cell_type": "code",
   "execution_count": 10,
   "metadata": {},
   "outputs": [
    {
     "data": {
      "text/html": [
       "<div>\n",
       "<style scoped>\n",
       "    .dataframe tbody tr th:only-of-type {\n",
       "        vertical-align: middle;\n",
       "    }\n",
       "\n",
       "    .dataframe tbody tr th {\n",
       "        vertical-align: top;\n",
       "    }\n",
       "\n",
       "    .dataframe thead th {\n",
       "        text-align: right;\n",
       "    }\n",
       "</style>\n",
       "<table border=\"1\" class=\"dataframe\">\n",
       "  <thead>\n",
       "    <tr style=\"text-align: right;\">\n",
       "      <th></th>\n",
       "      <th>Features</th>\n",
       "      <th>VIF Factor</th>\n",
       "    </tr>\n",
       "  </thead>\n",
       "  <tbody>\n",
       "    <tr>\n",
       "      <th>0</th>\n",
       "      <td>corruption_perception</td>\n",
       "      <td>1.873301</td>\n",
       "    </tr>\n",
       "    <tr>\n",
       "      <th>1</th>\n",
       "      <td>Middle East and Northern Africa</td>\n",
       "      <td>1.237359</td>\n",
       "    </tr>\n",
       "    <tr>\n",
       "      <th>2</th>\n",
       "      <td>Sub-Saharan Africa</td>\n",
       "      <td>1.143291</td>\n",
       "    </tr>\n",
       "    <tr>\n",
       "      <th>3</th>\n",
       "      <td>Australia and New Zealand</td>\n",
       "      <td>1.130814</td>\n",
       "    </tr>\n",
       "    <tr>\n",
       "      <th>4</th>\n",
       "      <td>Latin America and Caribbean</td>\n",
       "      <td>1.089508</td>\n",
       "    </tr>\n",
       "    <tr>\n",
       "      <th>5</th>\n",
       "      <td>Central and Eastern Europe</td>\n",
       "      <td>1.078196</td>\n",
       "    </tr>\n",
       "    <tr>\n",
       "      <th>6</th>\n",
       "      <td>North America</td>\n",
       "      <td>1.063971</td>\n",
       "    </tr>\n",
       "    <tr>\n",
       "      <th>7</th>\n",
       "      <td>Southeastern Asia</td>\n",
       "      <td>1.062370</td>\n",
       "    </tr>\n",
       "    <tr>\n",
       "      <th>8</th>\n",
       "      <td>Southern Asia</td>\n",
       "      <td>1.047705</td>\n",
       "    </tr>\n",
       "    <tr>\n",
       "      <th>9</th>\n",
       "      <td>Eastern Asia</td>\n",
       "      <td>1.020086</td>\n",
       "    </tr>\n",
       "  </tbody>\n",
       "</table>\n",
       "</div>"
      ],
      "text/plain": [
       "                          Features  VIF Factor\n",
       "0            corruption_perception    1.873301\n",
       "1  Middle East and Northern Africa    1.237359\n",
       "2               Sub-Saharan Africa    1.143291\n",
       "3        Australia and New Zealand    1.130814\n",
       "4      Latin America and Caribbean    1.089508\n",
       "5       Central and Eastern Europe    1.078196\n",
       "6                    North America    1.063971\n",
       "7                Southeastern Asia    1.062370\n",
       "8                    Southern Asia    1.047705\n",
       "9                     Eastern Asia    1.020086"
      ]
     },
     "metadata": {},
     "output_type": "display_data"
    }
   ],
   "source": [
    "l_features_vif = l_features\n",
    "\n",
    "max_VIF = 5\n",
    "\n",
    "while max_VIF>=5:\n",
    "    X_train = fact_train_set[l_features_vif].copy()\n",
    "    vif = pd.DataFrame() #Let us show th VIF scores in a data frame\n",
    "    vif[\"Features\"] = X_train.columns\n",
    "    vif[\"VIF Factor\"] = [variance_inflation_factor(X_train.values, i) for i in range(X_train.shape[1])] #variance_inflation_factor calculates the scores #for each Feature\n",
    "    vif = vif.sort_values(by=\"VIF Factor\", ascending=False).reset_index(drop=True)\n",
    "    \n",
    "    max_VIF = vif.iloc[0][\"VIF Factor\"]\n",
    "    l_features_vif = [i for i in l_features_vif if i!=vif.iloc[0][\"Features\"]]\n",
    "\n",
    "display(vif)\n",
    "    "
   ]
  },
  {
   "cell_type": "code",
   "execution_count": 11,
   "metadata": {},
   "outputs": [
    {
     "name": "stdout",
     "output_type": "stream",
     "text": [
      "RF params: \n",
      "n_estimators: 109 / max_features: auto / max_depth: 5 / min_samples_split 20\n"
     ]
    },
    {
     "data": {
      "text/html": [
       "<div>\n",
       "<style scoped>\n",
       "    .dataframe tbody tr th:only-of-type {\n",
       "        vertical-align: middle;\n",
       "    }\n",
       "\n",
       "    .dataframe tbody tr th {\n",
       "        vertical-align: top;\n",
       "    }\n",
       "\n",
       "    .dataframe thead th {\n",
       "        text-align: right;\n",
       "    }\n",
       "</style>\n",
       "<table border=\"1\" class=\"dataframe\">\n",
       "  <thead>\n",
       "    <tr style=\"text-align: right;\">\n",
       "      <th></th>\n",
       "      <th>Test MSE</th>\n",
       "      <th>Train MSE</th>\n",
       "    </tr>\n",
       "  </thead>\n",
       "  <tbody>\n",
       "    <tr>\n",
       "      <th>Benchmark</th>\n",
       "      <td>17.4926</td>\n",
       "      <td>None</td>\n",
       "    </tr>\n",
       "    <tr>\n",
       "      <th>Linear Regression</th>\n",
       "      <td>197.753</td>\n",
       "      <td>195.567</td>\n",
       "    </tr>\n",
       "    <tr>\n",
       "      <th>Polynomial (square) Regression</th>\n",
       "      <td>201.606</td>\n",
       "      <td>199.945</td>\n",
       "    </tr>\n",
       "    <tr>\n",
       "      <th>Random Forest</th>\n",
       "      <td>306.388</td>\n",
       "      <td>300.717</td>\n",
       "    </tr>\n",
       "  </tbody>\n",
       "</table>\n",
       "</div>"
      ],
      "text/plain": [
       "                               Test MSE Train MSE\n",
       "Benchmark                       17.4926      None\n",
       "Linear Regression               197.753   195.567\n",
       "Polynomial (square) Regression  201.606   199.945\n",
       "Random Forest                   306.388   300.717"
      ]
     },
     "metadata": {},
     "output_type": "display_data"
    }
   ],
   "source": [
    "compare_algo(fact_train_set, fact_test_set, \"happiness_score\", l_features_vif, benchmark_test)"
   ]
  },
  {
   "cell_type": "markdown",
   "metadata": {},
   "source": [
    "**Comprendre pourquoi VIF fonctionne pas bien avec les variables boolean**"
   ]
  },
  {
   "cell_type": "markdown",
   "metadata": {},
   "source": [
    "Thanks to VIF variable selection, we almost removed overfitting, but our model accuracy is even lower than correlation matrix"
   ]
  },
  {
   "cell_type": "markdown",
   "metadata": {},
   "source": [
    "### RFE\n",
    "\n",
    "Recursive Feature Elimination, or RFE for short, is a popular feature selection algorithm.\n",
    "\n",
    "RFE is popular because it is easy to configure and use and because it is effective at selecting those features (columns) in a training dataset that are more or most relevant in predicting the target variable."
   ]
  },
  {
   "cell_type": "code",
   "execution_count": 12,
   "metadata": {},
   "outputs": [],
   "source": [
    "from sklearn.feature_selection import RFE\n",
    "\n",
    "X_train = fact_train_set[l_factors].copy()\n",
    "y_train = fact_train_set[\"happiness_score\"].copy()\n",
    "\n",
    "selector = RFE(LinearRegression(), n_features_to_select=4, step=1)\n",
    "selector = selector.fit(X_train, y_train)"
   ]
  },
  {
   "cell_type": "code",
   "execution_count": 13,
   "metadata": {},
   "outputs": [
    {
     "data": {
      "text/plain": [
       "[0, 1, 2, 3]"
      ]
     },
     "metadata": {},
     "output_type": "display_data"
    },
    {
     "data": {
      "text/plain": [
       "['life_expectancy', 'gdp_per_capita', 'social_support', 'freedom']"
      ]
     },
     "metadata": {},
     "output_type": "display_data"
    }
   ],
   "source": [
    "selector_idx = [i for i in range(len(selector.support_)) if selector.support_[i]]\n",
    "display(selector_idx)\n",
    "\n",
    "selected_var = [X_train.columns[i] for i in selector_idx]\n",
    "display(selected_var)"
   ]
  },
  {
   "cell_type": "code",
   "execution_count": 14,
   "metadata": {},
   "outputs": [
    {
     "name": "stdout",
     "output_type": "stream",
     "text": [
      "RF params: \n",
      "n_estimators: 92 / max_features: auto / max_depth: 8 / min_samples_split 20\n"
     ]
    },
    {
     "data": {
      "text/html": [
       "<div>\n",
       "<style scoped>\n",
       "    .dataframe tbody tr th:only-of-type {\n",
       "        vertical-align: middle;\n",
       "    }\n",
       "\n",
       "    .dataframe tbody tr th {\n",
       "        vertical-align: top;\n",
       "    }\n",
       "\n",
       "    .dataframe thead th {\n",
       "        text-align: right;\n",
       "    }\n",
       "</style>\n",
       "<table border=\"1\" class=\"dataframe\">\n",
       "  <thead>\n",
       "    <tr style=\"text-align: right;\">\n",
       "      <th></th>\n",
       "      <th>Test MSE</th>\n",
       "      <th>Train MSE</th>\n",
       "    </tr>\n",
       "  </thead>\n",
       "  <tbody>\n",
       "    <tr>\n",
       "      <th>Benchmark</th>\n",
       "      <td>17.4926</td>\n",
       "      <td>None</td>\n",
       "    </tr>\n",
       "    <tr>\n",
       "      <th>Linear Regression</th>\n",
       "      <td>120.3</td>\n",
       "      <td>107.464</td>\n",
       "    </tr>\n",
       "    <tr>\n",
       "      <th>Polynomial (square) Regression</th>\n",
       "      <td>104.167</td>\n",
       "      <td>84.9138</td>\n",
       "    </tr>\n",
       "    <tr>\n",
       "      <th>Random Forest</th>\n",
       "      <td>107.018</td>\n",
       "      <td>67.8386</td>\n",
       "    </tr>\n",
       "  </tbody>\n",
       "</table>\n",
       "</div>"
      ],
      "text/plain": [
       "                               Test MSE Train MSE\n",
       "Benchmark                       17.4926      None\n",
       "Linear Regression                 120.3   107.464\n",
       "Polynomial (square) Regression  104.167   84.9138\n",
       "Random Forest                   107.018   67.8386"
      ]
     },
     "metadata": {},
     "output_type": "display_data"
    }
   ],
   "source": [
    "compare_algo(fact_train_set, fact_test_set, \"happiness_score\", selected_var, benchmark_test)"
   ]
  },
  {
   "cell_type": "markdown",
   "metadata": {},
   "source": [
    "With RSE variable selection, accuracy is slightly better than using other methods, but the model is overfitting"
   ]
  },
  {
   "cell_type": "markdown",
   "metadata": {},
   "source": [
    "-------------\n",
    "<a name=\"CF\"></a>\n",
    "## Conclusion"
   ]
  },
  {
   "cell_type": "markdown",
   "metadata": {},
   "source": [
    "As we saw with our different models, information contained in our data seems not to be enough to predict happiness with accuracy. Even if we almost removed overfitting problem by using variables selection methods, all of our models had a big bias, and our benchmark model based on trivial heuristic *happiness(year)=happiness(year-1)* remains unbeatable.\n",
    "\n",
    "An option to try to increase accuracy would be to collect more data from the survey or open data\n",
    "\n",
    "Let's now try to forecast happiness of a country with his past happiness and factors historic"
   ]
  },
  {
   "cell_type": "markdown",
   "metadata": {},
   "source": [
    "------------\n",
    "------------\n",
    "<a name=\"hi\"></a>\n",
    "# 2. Can we predict a country happiness only with his historical ?"
   ]
  },
  {
   "cell_type": "markdown",
   "metadata": {},
   "source": [
    "Since we did not study history in our EDA notebook, we don't have a priori knowledge about which algorithms will give us the best results. However, we can expect to beat our heuristic model (*happiness(year)=happiness(year-1)* which is equivalent to use just 1 year of history\n",
    "\n",
    "We will train algorithms on 2018 data with 3 years history (2015-2017) and evaluate (test) on 2019 (history from 2016 to 2018)"
   ]
  },
  {
   "cell_type": "code",
   "execution_count": 15,
   "metadata": {},
   "outputs": [],
   "source": [
    "benchmark_test = hist_test_set[\"happiness_scoreP1\"].copy()"
   ]
  },
  {
   "cell_type": "markdown",
   "metadata": {},
   "source": [
    "<a name=\"MH1\"></a>\n",
    "## Model 1: using all historical features (from year-1 to year-3)"
   ]
  },
  {
   "cell_type": "code",
   "execution_count": 16,
   "metadata": {},
   "outputs": [
    {
     "name": "stdout",
     "output_type": "stream",
     "text": [
      "RF params: \n",
      "n_estimators: 152 / max_features: auto / max_depth: 3 / min_samples_split 20\n"
     ]
    },
    {
     "data": {
      "text/html": [
       "<div>\n",
       "<style scoped>\n",
       "    .dataframe tbody tr th:only-of-type {\n",
       "        vertical-align: middle;\n",
       "    }\n",
       "\n",
       "    .dataframe tbody tr th {\n",
       "        vertical-align: top;\n",
       "    }\n",
       "\n",
       "    .dataframe thead th {\n",
       "        text-align: right;\n",
       "    }\n",
       "</style>\n",
       "<table border=\"1\" class=\"dataframe\">\n",
       "  <thead>\n",
       "    <tr style=\"text-align: right;\">\n",
       "      <th></th>\n",
       "      <th>Test MSE</th>\n",
       "      <th>Train MSE</th>\n",
       "    </tr>\n",
       "  </thead>\n",
       "  <tbody>\n",
       "    <tr>\n",
       "      <th>Benchmark</th>\n",
       "      <td>17.4926</td>\n",
       "      <td>None</td>\n",
       "    </tr>\n",
       "    <tr>\n",
       "      <th>Linear Regression</th>\n",
       "      <td>32.7187</td>\n",
       "      <td>9.09998</td>\n",
       "    </tr>\n",
       "    <tr>\n",
       "      <th>Polynomial (square) Regression</th>\n",
       "      <td>677.141</td>\n",
       "      <td>2.50463e-25</td>\n",
       "    </tr>\n",
       "    <tr>\n",
       "      <th>Random Forest</th>\n",
       "      <td>14.6871</td>\n",
       "      <td>4.41207</td>\n",
       "    </tr>\n",
       "  </tbody>\n",
       "</table>\n",
       "</div>"
      ],
      "text/plain": [
       "                               Test MSE    Train MSE\n",
       "Benchmark                       17.4926         None\n",
       "Linear Regression               32.7187      9.09998\n",
       "Polynomial (square) Regression  677.141  2.50463e-25\n",
       "Random Forest                   14.6871      4.41207"
      ]
     },
     "metadata": {},
     "output_type": "display_data"
    }
   ],
   "source": [
    "compare_algo(hist_train_set, hist_test_set, \"happiness_score\", hist_train_set.drop(columns=[\"happiness_score\"]).columns, \n",
    "                                                                                   benchmark_test)"
   ]
  },
  {
   "cell_type": "markdown",
   "metadata": {},
   "source": [
    "While our models give way better results than previous ones, they are overfitting (especially polynomial regression) and we are going to try to build simpler models by using only happiness history"
   ]
  },
  {
   "cell_type": "markdown",
   "metadata": {},
   "source": [
    "-------------\n",
    "<a name=\"MH2\"></a>\n",
    "## Model 2: using happiness history (from year-1 to year-3)"
   ]
  },
  {
   "cell_type": "code",
   "execution_count": 17,
   "metadata": {
    "scrolled": true
   },
   "outputs": [
    {
     "name": "stdout",
     "output_type": "stream",
     "text": [
      "RF params: \n",
      "n_estimators: 175 / max_features: log2 / max_depth: 6 / min_samples_split 5\n"
     ]
    },
    {
     "data": {
      "text/html": [
       "<div>\n",
       "<style scoped>\n",
       "    .dataframe tbody tr th:only-of-type {\n",
       "        vertical-align: middle;\n",
       "    }\n",
       "\n",
       "    .dataframe tbody tr th {\n",
       "        vertical-align: top;\n",
       "    }\n",
       "\n",
       "    .dataframe thead th {\n",
       "        text-align: right;\n",
       "    }\n",
       "</style>\n",
       "<table border=\"1\" class=\"dataframe\">\n",
       "  <thead>\n",
       "    <tr style=\"text-align: right;\">\n",
       "      <th></th>\n",
       "      <th>Test MSE</th>\n",
       "      <th>Train MSE</th>\n",
       "    </tr>\n",
       "  </thead>\n",
       "  <tbody>\n",
       "    <tr>\n",
       "      <th>Benchmark</th>\n",
       "      <td>17.4926</td>\n",
       "      <td>None</td>\n",
       "    </tr>\n",
       "    <tr>\n",
       "      <th>Linear Regression</th>\n",
       "      <td>13.6896</td>\n",
       "      <td>13.0592</td>\n",
       "    </tr>\n",
       "    <tr>\n",
       "      <th>Polynomial (square) Regression</th>\n",
       "      <td>16.4443</td>\n",
       "      <td>10.848</td>\n",
       "    </tr>\n",
       "    <tr>\n",
       "      <th>Random Forest</th>\n",
       "      <td>27.8134</td>\n",
       "      <td>16.0704</td>\n",
       "    </tr>\n",
       "  </tbody>\n",
       "</table>\n",
       "</div>"
      ],
      "text/plain": [
       "                               Test MSE Train MSE\n",
       "Benchmark                       17.4926      None\n",
       "Linear Regression               13.6896   13.0592\n",
       "Polynomial (square) Regression  16.4443    10.848\n",
       "Random Forest                   27.8134   16.0704"
      ]
     },
     "metadata": {},
     "output_type": "display_data"
    }
   ],
   "source": [
    "l_happiness_historic = [\"happiness_scoreP1\", \"happiness_scoreP2\", \"happiness_scoreP3\"]\n",
    "\n",
    "compare_algo(hist_train_set, hist_test_set, \"happiness_score\", l_happiness_historic, benchmark_test)"
   ]
  },
  {
   "cell_type": "markdown",
   "metadata": {},
   "source": [
    "As expected, we finally managed to lower MSE with **Linear regression** ! Furthermore, the small difference between train and test MSE ensures that our model is able to generalize and be applied to new data."
   ]
  },
  {
   "cell_type": "markdown",
   "metadata": {},
   "source": [
    "-------------\n",
    "<a name=\"CH\"></a>\n",
    "## Conclusion"
   ]
  },
  {
   "cell_type": "markdown",
   "metadata": {},
   "source": [
    "Ton conclude, it appears that our heuristic model as beaten most of our predictive model. Most of but not all ! Predicting happiness using linear regression as algorithm and happiness historic as predictors gave us predictions with low bias (good accuracy) and low variance (generalization)."
   ]
  }
 ],
 "metadata": {
  "kernelspec": {
   "display_name": "Python 3",
   "language": "python",
   "name": "python3"
  },
  "language_info": {
   "codemirror_mode": {
    "name": "ipython",
    "version": 3
   },
   "file_extension": ".py",
   "mimetype": "text/x-python",
   "name": "python",
   "nbconvert_exporter": "python",
   "pygments_lexer": "ipython3",
   "version": "3.7.0"
  }
 },
 "nbformat": 4,
 "nbformat_minor": 4
}
