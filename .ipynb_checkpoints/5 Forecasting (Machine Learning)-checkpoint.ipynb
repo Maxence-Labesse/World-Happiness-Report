{
 "cells": [
  {
   "cell_type": "markdown",
   "metadata": {},
   "source": [
    "On s'attend à ce que la regression linéaire soit plus efficace que polynomiale carré car on l'a vu dans EDA\n",
    "\n",
    "Relation linéaire entre happiness et 3 facteurs favorisent regression linéaire mais les questions de seuil (corruption) laissent penser que random forest(highlight) va capter l'info"
   ]
  },
  {
   "cell_type": "markdown",
   "metadata": {},
   "source": [
    "2 questions:\n",
    "* Peut on prédire l'happiness quand on connait les facteurs d'un pays?\n",
    "\n",
    "* Peut on prédire h'appiness uniquement avec son historique des années précédentes ?\n",
    "Puisqu'on a pas de données sur 2020, on doit préduire l'happiness uniquement avec l'historique."
   ]
  },
  {
   "cell_type": "markdown",
   "metadata": {},
   "source": [
    "# Table of Contents\n",
    "\n",
    "<div class=\"alert alert-block alert-info\" style=\"margin-top: 20px\">\n",
    "\n",
    "[Context](#Co)<br>\n",
    "[Import packages and data](#0)<br>\n",
    "    \n",
    "1. [**Can we predict a country happiness if we know the gdp per capita, life expectancy and other factors values?**](#Fac)<br>\n",
    "    [Model 1: using all factors as features](#MF1)<br>\n",
    "    [Model 2: variable selection (correlation matrix, VIF and RSE)](#MF2)<br>\n",
    "    \n",
    "    \n",
    "2. [**Can we predict a country happiness only with his historical ?**](#Hi)<br>\n",
    "    [Model 1: using all historical features (from year-1 to year-3)](#MH1)<br>\n",
    "    [Model 2: using happiness score historical (from year-1 to year-3](#MH2)<br>\n",
    "\n",
    "\n",
    "</div>\n",
    "<hr>"
   ]
  },
  {
   "cell_type": "markdown",
   "metadata": {},
   "source": [
    "<a name=\"Co\"></a>\n",
    "# Context\n",
    "\n",
    "The **World Happiness Report** is a landmark survey of the state of global happiness from 2015 to 2019 according to 6 main factors:\n",
    "* economic production, \n",
    "* social support, \n",
    "* life expectancy, freedom, \n",
    "* absence of corruption, \n",
    "* and generosity\n",
    "\n",
    "### Purposes of the project\n",
    "<ins> Data analysis: </ins>\n",
    "1. Give a clear picture of happiness around the world in 2019\n",
    "2. Analyse trends in happiness from 2015 to 2019\n",
    "    \n",
    "<ins> Forecasting with Machine Learning</ins>(*)\n",
    "1. How happy will countries be in 2020 ?\n",
    "2. In which countries happiness will increase in 2020 ?\n",
    "\n",
    "(\\*) *Although data don't contain related information, the global pandemic may have a tremendous impact on the results*\n",
    "\n",
    "You can find the whole presentation and information about the data in the **Project Presentation** notebook\n",
    "\n",
    "### Workflow\n",
    "* Cleaning\n",
    "* EDA\n",
    "* Data Visualization\n",
    "* Preprocessing\n",
    "* **Machine Learning**\n",
    "\n",
    "--------\n",
    "In this notebook"
   ]
  },
  {
   "cell_type": "markdown",
   "metadata": {},
   "source": [
    "------------\n",
    "------------\n",
    "<a name=\"0\"></a>\n",
    "# Import packages and data"
   ]
  },
  {
   "cell_type": "code",
   "execution_count": 1,
   "metadata": {},
   "outputs": [],
   "source": [
    "import pandas as pd\n",
    "import numpy as np\n",
    "import random\n",
    "\n",
    "import seaborn as sns\n",
    "import matplotlib.pyplot as plt\n",
    "\n",
    "from sklearn.linear_model import LinearRegression\n",
    "from sklearn.metrics import mean_squared_error,r2_score\n",
    "from statsmodels.stats.outliers_influence import variance_inflation_factor\n",
    "from sklearn.preprocessing import PolynomialFeatures\n",
    "from sklearn.ensemble import RandomForestRegressor"
   ]
  },
  {
   "cell_type": "code",
   "execution_count": 33,
   "metadata": {},
   "outputs": [],
   "source": [
    "# import cleaned and normalized data\n",
    "df = pd.read_csv('data/data_clean_norm.csv')\n",
    "\n",
    "df.sort_values(by=[\"country\",\"year\"],ascending=True)\n",
    "\n",
    "df['happiness_scoreP1'] = df.groupby('country')['happiness_score'].shift()\n",
    "\n",
    "df.set_index(\"country\",inplace=True)\n",
    "\n",
    "df_dummies_reg = pd.get_dummies(df['region']).reset_index().drop_duplicates().set_index(\"country\")\n",
    "    \n",
    "df = pd.merge(df, df_dummies_reg, left_index=True, right_index=True, how=\"inner\")\n",
    "\n",
    "\n",
    "df.drop(columns=[\"happiness_rank\",\"region\"],inplace=True)\n",
    "\n",
    "fact_train_set = df[df['year'].isin([2018])].copy()\n",
    "fact_test_set = df[df['year'].isin([2019])].copy()\n",
    "\n",
    "\n",
    "# import historic datasets\n",
    "hist_train_set = pd.read_csv('data/train_set.csv', index_col=\"country\")\n",
    "hist_test_set = pd.read_csv('data/test_set.csv', index_col=\"country\")\n",
    "\n",
    "# drop region and year\n",
    "hist_train_set.drop(columns=['year','region'],inplace=True)\n",
    "hist_test_set.drop(columns=['year','region'],inplace=True)\n",
    "\n",
    "# list of factors\n",
    "l_factors = ['life_expectancy', 'gdp_per_capita', 'social_support', \n",
    "             'freedom','generosity', 'corruption_perception'] \n",
    "\n",
    "l_happiness_histo = ['happiness_scoreP1', 'happiness_scoreP2', 'happiness_scoreP3']"
   ]
  },
  {
   "cell_type": "markdown",
   "metadata": {},
   "source": [
    "-------\n",
    "# About Modelisation\n",
    "\n",
    "\n",
    "### Algorithms\n",
    "For this notebook, we created a function that will facilitate the modelisation.\n",
    "`compare algo` train, test and evaluation several regression algorithms and compare them according to Mean Squared Error (MSE) metrics. Algorithms are the following:\n",
    "* A trivial model that will serve as benchmark: In our case we'll use euristic happiness_score(N) = happiness_score(N-1)\n",
    "* Linear regression\n",
    "* Polynomial regression (²)\n",
    "* Random forest (100 models built with gris random parameters - best model is selected according to MSE on test set)"
   ]
  },
  {
   "cell_type": "code",
   "execution_count": 3,
   "metadata": {},
   "outputs": [],
   "source": [
    "def train_test_metrics(y_test, y_pred_test, y_train=[], y_pred_train=[], method=\"\", display=True):\n",
    "    \"\"\"\n",
    "    \"\"\"\n",
    "    d_mse = {\"test\": None,\"train\": None}\n",
    "    d_mse[\"test\"] = mean_squared_error(y_test, y_pred_test)\n",
    "    \n",
    "    if display:\n",
    "        print(method+\" test_set mse:\", d_mse[\"test\"])\n",
    "    \n",
    "    if len(y_train)>0:\n",
    "        d_mse[\"train\"] = mean_squared_error(y_train, y_pred_train)\n",
    "        if display:\n",
    "            print(method+\" train_set mse:\", d_mse[\"train\"])\n",
    "\n",
    "    return d_mse"
   ]
  },
  {
   "cell_type": "code",
   "execution_count": 24,
   "metadata": {},
   "outputs": [],
   "source": [
    "def compare_algo(df_train, df_test, target, l_features, y_test_benchmark):\n",
    "    \"\"\"\n",
    "    Compare different Machine Learning Alrogithms for regression\n",
    "    \"\"\"\n",
    "    X_train = df_train[l_features].copy()\n",
    "    y_train = df_train[target].copy()\n",
    "\n",
    "    X_test = df_test[l_features].copy()\n",
    "    y_test = df_test[target].copy()\n",
    "    \n",
    "    # Benchmark\n",
    "    benchmark_mse = train_test_metrics(y_test=y_test, y_pred_test=y_test_benchmark, \n",
    "                                            method=\"Benchmark\", display=False)\n",
    "    \n",
    "    # Linear regression\n",
    "    model = LinearRegression() \n",
    "    linear_fit = model.fit(X_train, y_train)\n",
    "    y_pred_lin = linear_fit.predict(X_test)\n",
    "    y_train_pred_lin = linear_fit.predict(X_train)\n",
    "    \n",
    "    lreg_mse = train_test_metrics(y_test, y_pred_lin, y_train, y_train_pred_lin, \n",
    "                                                       method=\"Linear regression\", display=False)\n",
    "    \n",
    "    # Polynomial regression\n",
    "    poly_reg = PolynomialFeatures(degree = 2)\n",
    "    X_train_poly = poly_reg.fit_transform(X_train)\n",
    "    X_test_poly = poly_reg.transform(X_test)\n",
    "    \n",
    "    lin_reg2 = LinearRegression()\n",
    "    lin_reg2.fit(X_train_poly,y_train)\n",
    "    y_train_pred_reg2 = lin_reg2.predict(X_train_poly)\n",
    "    y_test_pred_reg2 = lin_reg2.predict(X_test_poly)\n",
    "\n",
    "    reg2_mse = train_test_metrics(y_test, y_test_pred_reg2, y_train, y_train_pred_reg2, \n",
    "                                                       method=\"polynomial (square) regression\", display=False)\n",
    "    \n",
    "    # Random Forest\n",
    "    l_n_estimators= np.random.uniform(low=20, high=500, size=40).astype(int)\n",
    "    l_max_features= ['auto', 'log2']\n",
    "    l_max_depth= [3, 4, 5, 6, 7, 8]\n",
    "    l_min_samples_split= [5, 10, 15, 20]\n",
    "    \n",
    "    for i in range(20):\n",
    "        n_estimators = random.choice(l_n_estimators)\n",
    "        max_features = random.choice(l_max_features)\n",
    "        max_depth = random.choice(l_max_depth)\n",
    "        min_samples_split = random.choice(l_min_samples_split)\n",
    "\n",
    "        RF_reg = RandomForestRegressor(n_estimators=n_estimators, max_features=max_features,\n",
    "                                       max_depth=max_depth, min_samples_split=min_samples_split)\n",
    "\n",
    "        RF_reg.fit(X_train, y_train)\n",
    "        y_train_pred_rf = RF_reg.predict(X_train)\n",
    "        y_test_pred_rf = RF_reg.predict(X_test)\n",
    "    \n",
    "        rf_mse = train_test_metrics(y_test, y_test_pred_rf, y_train, y_train_pred_rf, \n",
    "                                                       method=\"RF\", display=False)\n",
    "    \n",
    "        best_valid_model_mse = 1000\n",
    "        if (abs(rf_mse['test']-rf_mse['train'])<2 and rf_mse['test']<best_valid_model_mse) or i==1:\n",
    "            best_valid_model_mse = rf_mse['test']\n",
    "            best_valid_model_mse_train = rf_mse['train']\n",
    "            best_model_n_estimators = n_estimators \n",
    "            best_model_max_features = max_features\n",
    "            best_model_max_depth = max_depth\n",
    "            best_model_min_samples_split = min_samples_split\n",
    "    \n",
    "    \n",
    "    # Display\n",
    "    df_mse = pd.DataFrame(index=[\"Benchmark\", \"Linear Regression\", \"Polynomial (square) Regression\", \"Random Forest\"], \n",
    "                           columns=['Test MSE', \"Train MSE\"])\n",
    "    \n",
    "    df_mse.loc[\"Benchmark\"] = list(benchmark_mse.values())\n",
    "    df_mse.loc[\"Linear Regression\"] = list(lreg_mse.values())\n",
    "    df_mse.loc[\"Polynomial (square) Regression\"] = list(reg2_mse.values())\n",
    "    df_mse.loc[\"Random Forest\"] = list(rf_mse.values())\n",
    "    \n",
    "    display(df_mse)\n",
    "    \n",
    "    print(\"RF params: \\nn_estimators:\",best_model_n_estimators,\n",
    "          \"/ max_features:\",best_model_max_features,\n",
    "          \"/ max_depth:\",best_model_max_depth,\n",
    "          \"/ min_samples_split\",best_model_min_samples_split)\n",
    "    \n",
    "    return y_pred_lin, y_test"
   ]
  },
  {
   "cell_type": "markdown",
   "metadata": {},
   "source": [
    "------------\n",
    "------------\n",
    "<a name=\"Fac\"></a>\n",
    "# 1. Can we predict a country happiness if we know the gdp per capita, life expectancy and other factors values\n",
    "\n",
    "Thanks to EDA (see notebook), we highlighted some relationships and patterns in data that will help us to chose. \n",
    "1. We can expect linear regression to be very effective because we saw that relationship between happiness and gdp_per_capita, life_expectancy and social_support was very likely to be linear\n",
    "2. We highlighlited some threshold patterns (corruption_perception, freedom) that give us good reasons to assume that random forest can be effective aswell.\n",
    "3. Since we didn't see any polynomial relationship between happiness and factors, polynomial regression will likely be ineffective."
   ]
  },
  {
   "cell_type": "markdown",
   "metadata": {},
   "source": [
    "### Train Test sets\n",
    "Data from 2016 to 2018 will be used to train our models, and 2019 to test it"
   ]
  },
  {
   "cell_type": "code",
   "execution_count": 5,
   "metadata": {
    "scrolled": true
   },
   "outputs": [],
   "source": [
    "benchmark_train= fact_train_set[\"happiness_scoreP1\"]\n",
    "fact_train_set.drop(columns=[\"year\",\"happiness_scoreP1\"],inplace=True)\n",
    "\n",
    "benchmark_test= fact_test_set[\"happiness_scoreP1\"]\n",
    "fact_test_set.drop(columns=[\"year\",\"happiness_scoreP1\"],inplace=True)"
   ]
  },
  {
   "cell_type": "markdown",
   "metadata": {},
   "source": [
    "<a name=\"MF1\"></a>\n",
    "## Model 1: using all factors as features"
   ]
  },
  {
   "cell_type": "code",
   "execution_count": 6,
   "metadata": {},
   "outputs": [],
   "source": [
    "l_features = ['corruption_perception', 'freedom', 'gdp_per_capita', 'generosity', 'life_expectancy', 'social_support',\n",
    "              'Australia and New Zealand', 'Central and Eastern Europe',\n",
    "              'Eastern Asia', 'Latin America and Caribbean',\n",
    "              'Middle East and Northern Africa', 'North America', 'Southeastern Asia',\n",
    "              'Southern Asia', 'Sub-Saharan Africa', 'Western Europe']"
   ]
  },
  {
   "cell_type": "code",
   "execution_count": 7,
   "metadata": {
    "scrolled": false
   },
   "outputs": [
    {
     "data": {
      "text/html": [
       "<div>\n",
       "<style scoped>\n",
       "    .dataframe tbody tr th:only-of-type {\n",
       "        vertical-align: middle;\n",
       "    }\n",
       "\n",
       "    .dataframe tbody tr th {\n",
       "        vertical-align: top;\n",
       "    }\n",
       "\n",
       "    .dataframe thead th {\n",
       "        text-align: right;\n",
       "    }\n",
       "</style>\n",
       "<table border=\"1\" class=\"dataframe\">\n",
       "  <thead>\n",
       "    <tr style=\"text-align: right;\">\n",
       "      <th></th>\n",
       "      <th>Test MSE</th>\n",
       "      <th>Train MSE</th>\n",
       "    </tr>\n",
       "  </thead>\n",
       "  <tbody>\n",
       "    <tr>\n",
       "      <th>Benchmark</th>\n",
       "      <td>17.4926</td>\n",
       "      <td>None</td>\n",
       "    </tr>\n",
       "    <tr>\n",
       "      <th>Linear Regression</th>\n",
       "      <td>98.8958</td>\n",
       "      <td>89.958</td>\n",
       "    </tr>\n",
       "    <tr>\n",
       "      <th>Polynomial (square) Regression</th>\n",
       "      <td>173.482</td>\n",
       "      <td>46.0931</td>\n",
       "    </tr>\n",
       "    <tr>\n",
       "      <th>Random Forest</th>\n",
       "      <td>114.173</td>\n",
       "      <td>43.878</td>\n",
       "    </tr>\n",
       "  </tbody>\n",
       "</table>\n",
       "</div>"
      ],
      "text/plain": [
       "                               Test MSE Train MSE\n",
       "Benchmark                       17.4926      None\n",
       "Linear Regression               98.8958    89.958\n",
       "Polynomial (square) Regression  173.482   46.0931\n",
       "Random Forest                   114.173    43.878"
      ]
     },
     "metadata": {},
     "output_type": "display_data"
    },
    {
     "name": "stdout",
     "output_type": "stream",
     "text": [
      "RF params: \n",
      "n_estimators: 225 / max_features: auto / max_depth: 5 / min_samples_split 20\n"
     ]
    }
   ],
   "source": [
    "compare_algo(fact_train_set, fact_test_set, \"happiness_score\", l_features, benchmark_test)"
   ]
  },
  {
   "cell_type": "markdown",
   "metadata": {},
   "source": [
    "-------------\n",
    "<a name=\"MF2\"></a>\n",
    "## Model 2: variable selection (correlation matrix, VIF and RSE)"
   ]
  },
  {
   "cell_type": "markdown",
   "metadata": {},
   "source": [
    "**Correlation matrix**"
   ]
  },
  {
   "cell_type": "code",
   "execution_count": 8,
   "metadata": {},
   "outputs": [
    {
     "data": {
      "text/plain": [
       "<matplotlib.axes._subplots.AxesSubplot at 0x1d86df694e0>"
      ]
     },
     "execution_count": 8,
     "metadata": {},
     "output_type": "execute_result"
    },
    {
     "data": {
      "image/png": "[encoded data removed]",
      "text/plain": [
       "<Figure size 432x288 with 2 Axes>"
      ]
     },
     "metadata": {
      "needs_background": "light"
     },
     "output_type": "display_data"
    }
   ],
   "source": [
    "corr_matrix=df[[\"happiness_score\"]+l_factors].corr()\n",
    "\n",
    "sns.heatmap(corr_matrix, annot = True)"
   ]
  },
  {
   "cell_type": "code",
   "execution_count": 30,
   "metadata": {},
   "outputs": [],
   "source": [
    "l_features = ['gdp_per_capita', 'life_expectancy', 'social_support', \"freedom\", \"generosity\", \"corruption_perception\"]"
   ]
  },
  {
   "cell_type": "code",
   "execution_count": 34,
   "metadata": {
    "scrolled": true
   },
   "outputs": [
    {
     "data": {
      "text/html": [
       "<div>\n",
       "<style scoped>\n",
       "    .dataframe tbody tr th:only-of-type {\n",
       "        vertical-align: middle;\n",
       "    }\n",
       "\n",
       "    .dataframe tbody tr th {\n",
       "        vertical-align: top;\n",
       "    }\n",
       "\n",
       "    .dataframe thead th {\n",
       "        text-align: right;\n",
       "    }\n",
       "</style>\n",
       "<table border=\"1\" class=\"dataframe\">\n",
       "  <thead>\n",
       "    <tr style=\"text-align: right;\">\n",
       "      <th></th>\n",
       "      <th>Test MSE</th>\n",
       "      <th>Train MSE</th>\n",
       "    </tr>\n",
       "  </thead>\n",
       "  <tbody>\n",
       "    <tr>\n",
       "      <th>Benchmark</th>\n",
       "      <td>17.4926</td>\n",
       "      <td>None</td>\n",
       "    </tr>\n",
       "    <tr>\n",
       "      <th>Linear Regression</th>\n",
       "      <td>113.711</td>\n",
       "      <td>102.219</td>\n",
       "    </tr>\n",
       "    <tr>\n",
       "      <th>Polynomial (square) Regression</th>\n",
       "      <td>8499.34</td>\n",
       "      <td>1456.29</td>\n",
       "    </tr>\n",
       "    <tr>\n",
       "      <th>Random Forest</th>\n",
       "      <td>97.1666</td>\n",
       "      <td>61.4886</td>\n",
       "    </tr>\n",
       "  </tbody>\n",
       "</table>\n",
       "</div>"
      ],
      "text/plain": [
       "                               Test MSE Train MSE\n",
       "Benchmark                       17.4926      None\n",
       "Linear Regression               113.711   102.219\n",
       "Polynomial (square) Regression  8499.34   1456.29\n",
       "Random Forest                   97.1666   61.4886"
      ]
     },
     "metadata": {},
     "output_type": "display_data"
    },
    {
     "name": "stdout",
     "output_type": "stream",
     "text": [
      "RF params: \n",
      "n_estimators: 244 / max_features: auto / max_depth: 7 / min_samples_split 10\n"
     ]
    }
   ],
   "source": [
    "y_pred_lin, y_test = compare_algo(fact_train_set, fact_test_set, \"happiness_score\", l_features, benchmark_test)"
   ]
  },
  {
   "cell_type": "code",
   "execution_count": 35,
   "metadata": {},
   "outputs": [
    {
     "data": {
      "text/plain": [
       "<matplotlib.collections.PathCollection at 0x1d870381588>"
      ]
     },
     "execution_count": 35,
     "metadata": {},
     "output_type": "execute_result"
    },
    {
     "data": {
      "image/png": "[encoded data removed]",
      "text/plain": [
       "<Figure size 432x288 with 1 Axes>"
      ]
     },
     "metadata": {
      "needs_background": "light"
     },
     "output_type": "display_data"
    }
   ],
   "source": [
    "plt.scatter(y_pred_lin, y_test)"
   ]
  },
  {
   "cell_type": "markdown",
   "metadata": {},
   "source": [
    "**VIF**"
   ]
  },
  {
   "cell_type": "markdown",
   "metadata": {},
   "source": [
    "**RSE**"
   ]
  },
  {
   "cell_type": "markdown",
   "metadata": {},
   "source": [
    "------------\n",
    "------------\n",
    "<a name=\"hi\"></a>\n",
    "# 2. Can we predict a country happiness only with his historical ?"
   ]
  },
  {
   "cell_type": "markdown",
   "metadata": {},
   "source": [
    "<a name=\"MH1\"></a>\n",
    "## Model 1: using all historical features (from year-1 to year-3)"
   ]
  },
  {
   "cell_type": "markdown",
   "metadata": {},
   "source": [
    "-------------\n",
    "<a name=\"MH2\"></a>\n",
    "## Model 2: using happiness score historical (from year-1 to year-3"
   ]
  },
  {
   "cell_type": "code",
   "execution_count": null,
   "metadata": {},
   "outputs": [],
   "source": []
  }
 ],
 "metadata": {
  "kernelspec": {
   "display_name": "Python 3",
   "language": "python",
   "name": "python3"
  },
  "language_info": {
   "codemirror_mode": {
    "name": "ipython",
    "version": 3
   },
   "file_extension": ".py",
   "mimetype": "text/x-python",
   "name": "python",
   "nbconvert_exporter": "python",
   "pygments_lexer": "ipython3",
   "version": "3.7.0"
  }
 },
 "nbformat": 4,
 "nbformat_minor": 4
}
