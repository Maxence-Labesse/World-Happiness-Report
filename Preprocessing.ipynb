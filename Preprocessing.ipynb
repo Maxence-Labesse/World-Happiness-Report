{
 "cells": [
  {
   "cell_type": "markdown",
   "metadata": {},
   "source": [
    "Option 1: Données N-3 à N-1\n",
    "* Train: 2018=f(2017, 2016, 2015)\n",
    "* Test 2019=f(2018, 2017, 2015)\n",
    "* Inférence 2020=f(2019, 2018, 2017)\n",
    "\n",
    "\n",
    "Tester le drift ???\n"
   ]
  },
  {
   "cell_type": "markdown",
   "metadata": {},
   "source": [
    "# Table of Contents\n",
    "\n",
    "<div class=\"alert alert-block alert-info\" style=\"margin-top: 20px\">\n",
    "\n",
    "[Context](#Co)<br>\n",
    "[Import packages and data](#0)<br>\n",
    "    \n",
    "1. [**Happiness around the world in 2019**](#2019)<br>\n",
    "    [In which countries/regions of the world are people the happiest?](#Ha)<br>\n",
    "    [Which factors explain the differences in happiness](#Fa)<br>\n",
    "    \n",
    "    \n",
    "2. [**Trends in happiness from 2015 to 2019**](#Ev)<br>\n",
    "    [In which countries/regions happiness has increased the most during this period?](#In)<br>\n",
    "    [Can we explain this growth?](#Ex)<br>\n",
    "</div>\n",
    "<hr>"
   ]
  },
  {
   "cell_type": "markdown",
   "metadata": {},
   "source": [
    "<a name=\"Co\"></a>\n",
    "# Context\n",
    "\n",
    "The **World Happiness Report** is a landmark survey of the state of global happiness from 2015 to 2019 according to 6 main factors:\n",
    "* economic production, \n",
    "* social support, \n",
    "* life expectancy, freedom, \n",
    "* absence of corruption, \n",
    "* and generosity\n",
    "\n",
    "### Purposes of the project\n",
    "<ins> Data analysis: </ins>\n",
    "1. Give a clear picture of happiness around the world in 2019\n",
    "2. Analyse trends in happiness from 2015 to 2019\n",
    "    \n",
    "<ins> Forecasting with Machine Learning</ins>(*)\n",
    "1. How happy will countries be in 2020 ?\n",
    "2. In which countries happiness will increase in 2020 ?\n",
    "\n",
    "(\\*) *Although data don't contain related information, the global pandemic may have a tremendous impact on the results*\n",
    "\n",
    "You can find the whole presentation and information about the data in the **Project Presentation** notebook\n",
    "\n",
    "### Workflow\n",
    "* Cleaning\n",
    "* EDA\n",
    "* Data Visualization\n",
    "* **Preprocessing**\n",
    "* Machine Learning\n",
    "\n",
    "???"
   ]
  },
  {
   "cell_type": "markdown",
   "metadata": {},
   "source": [
    "------------\n",
    "------------\n",
    "<a name=\"0\"></a>\n",
    "# Import packages and data"
   ]
  },
  {
   "cell_type": "code",
   "execution_count": 1,
   "metadata": {},
   "outputs": [],
   "source": [
    "import pandas as pd\n",
    "import numpy as np"
   ]
  },
  {
   "cell_type": "code",
   "execution_count": 2,
   "metadata": {},
   "outputs": [
    {
     "name": "stdout",
     "output_type": "stream",
     "text": [
      "data dimension: (705, 11)\n"
     ]
    }
   ],
   "source": [
    "df = pd.read_csv('data/data_clean_norm.csv')\n",
    "print(\"data dimension:\",df.shape)\n",
    "\n",
    "df.set_index(\"country\",inplace=True)\n",
    "\n",
    "l_factors = ['life_expectancy', 'gdp_per_capita', 'social_support', \n",
    "             'freedom','generosity', 'corruption_perception'] "
   ]
  },
  {
   "cell_type": "code",
   "execution_count": 3,
   "metadata": {},
   "outputs": [
    {
     "data": {
      "text/plain": [
       "Index(['corruption_perception', 'freedom', 'gdp_per_capita', 'generosity',\n",
       "       'happiness_rank', 'happiness_score', 'life_expectancy', 'region',\n",
       "       'social_support', 'year'],\n",
       "      dtype='object')"
      ]
     },
     "execution_count": 3,
     "metadata": {},
     "output_type": "execute_result"
    }
   ],
   "source": [
    "df.columns"
   ]
  },
  {
   "cell_type": "code",
   "execution_count": 12,
   "metadata": {},
   "outputs": [],
   "source": [
    "def get_histortic_N3(df, year, l_var):\n",
    "    \"\"\"\n",
    "    \"\"\"\n",
    "    df_y = df[df[\"year\"]==year][l_var]\n",
    "    \n",
    "    for i in range(1,4):\n",
    "        df_p = df[df[\"year\"]==year-i][l_var]\n",
    "        df_p.drop(columns=[\"year\",\"region\"],inplace=True)\n",
    "        \n",
    "        df_p.rename(\n",
    "            columns=dict(zip(df_p.columns.tolist(),[col+\"P\"+str(i) for col  in df_p.columns.tolist()])),\n",
    "            inplace=True)\n",
    "\n",
    "        df_y = pd.merge(df_y, df_p, left_index=True, right_index=True, how=\"inner\")\n",
    "                     \n",
    "    return(df_y)"
   ]
  },
  {
   "cell_type": "code",
   "execution_count": 14,
   "metadata": {},
   "outputs": [],
   "source": [
    "train_set = get_histortic_N3(df, 2018, df.columns.tolist())"
   ]
  },
  {
   "cell_type": "code",
   "execution_count": 17,
   "metadata": {},
   "outputs": [],
   "source": [
    "train_set = pd.merge(train_set, pd.get_dummies(train_set['region']), left_index=True, right_index=True, how=\"inner\")"
   ]
  },
  {
   "cell_type": "code",
   "execution_count": 18,
   "metadata": {},
   "outputs": [
    {
     "data": {
      "text/plain": [
       "(141, 44)"
      ]
     },
     "metadata": {},
     "output_type": "display_data"
    },
    {
     "data": {
      "text/plain": [
       "Index(['corruption_perception', 'freedom', 'gdp_per_capita', 'generosity',\n",
       "       'happiness_rank', 'happiness_score', 'life_expectancy', 'region',\n",
       "       'social_support', 'year', 'corruption_perceptionP1', 'freedomP1',\n",
       "       'gdp_per_capitaP1', 'generosityP1', 'happiness_rankP1',\n",
       "       'happiness_scoreP1', 'life_expectancyP1', 'social_supportP1',\n",
       "       'corruption_perceptionP2', 'freedomP2', 'gdp_per_capitaP2',\n",
       "       'generosityP2', 'happiness_rankP2', 'happiness_scoreP2',\n",
       "       'life_expectancyP2', 'social_supportP2', 'corruption_perceptionP3',\n",
       "       'freedomP3', 'gdp_per_capitaP3', 'generosityP3', 'happiness_rankP3',\n",
       "       'happiness_scoreP3', 'life_expectancyP3', 'social_supportP3',\n",
       "       'Australia and New Zealand', 'Central and Eastern Europe',\n",
       "       'Eastern Asia', 'Latin America and Caribbean',\n",
       "       'Middle East and Northern Africa', 'North America', 'Southeastern Asia',\n",
       "       'Southern Asia', 'Sub-Saharan Africa', 'Western Europe'],\n",
       "      dtype='object')"
      ]
     },
     "metadata": {},
     "output_type": "display_data"
    }
   ],
   "source": [
    "display(train_set.shape)\n",
    "\n",
    "display(train_set.columns)"
   ]
  }
 ],
 "metadata": {
  "kernelspec": {
   "display_name": "Python 3",
   "language": "python",
   "name": "python3"
  },
  "language_info": {
   "codemirror_mode": {
    "name": "ipython",
    "version": 3
   },
   "file_extension": ".py",
   "mimetype": "text/x-python",
   "name": "python",
   "nbconvert_exporter": "python",
   "pygments_lexer": "ipython3",
   "version": "3.7.0"
  }
 },
 "nbformat": 4,
 "nbformat_minor": 4
}
